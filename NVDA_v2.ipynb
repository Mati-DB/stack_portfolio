{
 "cells": [
  {
   "cell_type": "markdown",
   "metadata": {},
   "source": [
    "# <ins>**Is there a significant difference between holding stocks over an extended period, and using EMAs in a dynamic trading strategy?**</ins>\n",
    "\n",
    "This project's objective is to find out if it is convenient to use the EMAs crossover strategy. For this, I'll use the relationships between EMAs with different time frames (12, 26, 50 and 100 days). \n",
    "\n",
    "Caveats:\n",
    "The comparison here uses only one technical indicator while an actual trader would use multiple indicators to minimize bias and risk. This script may not be efficient as I minimized the use of an AI to correcly reflect my progress in python."
   ]
  },
  {
   "cell_type": "code",
   "execution_count": 48,
   "metadata": {},
   "outputs": [],
   "source": [
    "# Packages and initial variable\n",
    "\n",
    "import yfinance as yf\n",
    "import pandas as pd\n",
    "import seaborn as sns\n",
    "import matplotlib.pyplot as plt\n",
    "import itertools\n",
    "import pprint\n",
    "\n",
    "nvda = yf.Ticker(\"NVDA\")"
   ]
  },
  {
   "cell_type": "markdown",
   "metadata": {},
   "source": [
    "## First Steps"
   ]
  },
  {
   "cell_type": "code",
   "execution_count": 71,
   "metadata": {},
   "outputs": [
    {
     "name": "stdout",
     "output_type": "stream",
     "text": [
      "{'address1': '2788 San Tomas Expressway',\n",
      " 'auditRisk': 7,\n",
      " 'boardRisk': 10,\n",
      " 'city': 'Santa Clara',\n",
      " 'companyOfficers': [{'age': 60,\n",
      "                      'exercisedValue': 217327152,\n",
      "                      'fiscalYear': 2024,\n",
      "                      'maxAge': 1,\n",
      "                      'name': 'Mr. Jen-Hsun  Huang',\n",
      "                      'title': 'Co-Founder, CEO, President & Director',\n",
      "                      'totalPay': 7491487,\n",
      "                      'unexercisedValue': 0,\n",
      "                      'yearBorn': 1963},\n",
      "                     {'age': 56,\n",
      "                      'exercisedValue': 0,\n",
      "                      'fiscalYear': 2024,\n",
      "                      'maxAge': 1,\n",
      "                      'name': 'Ms. Colette M. Kress',\n",
      "                      'title': 'Executive VP & CFO',\n",
      "                      'totalPay': 1510765,\n",
      "                      'unexercisedValue': 0,\n",
      "                      'yearBorn': 1967},\n",
      "                     {'age': 68,\n",
      "                      'exercisedValue': 0,\n",
      "                      'fiscalYear': 2024,\n",
      "                      'maxAge': 1,\n",
      "                      'name': 'Ms. Debora  Shoquist',\n",
      "                      'title': 'Executive Vice President of Operations',\n",
      "                      'totalPay': 1371266,\n",
      "                      'unexercisedValue': 0,\n",
      "                      'yearBorn': 1955},\n",
      "                     {'age': 56,\n",
      "                      'exercisedValue': 0,\n",
      "                      'fiscalYear': 2024,\n",
      "                      'maxAge': 1,\n",
      "                      'name': 'Mr. Timothy S. Teter',\n",
      "                      'title': 'Executive VP, General Counsel & Secretary',\n",
      "                      'totalPay': 1360939,\n",
      "                      'unexercisedValue': 0,\n",
      "                      'yearBorn': 1967},\n",
      "                     {'age': 68,\n",
      "                      'exercisedValue': 0,\n",
      "                      'fiscalYear': 2024,\n",
      "                      'maxAge': 1,\n",
      "                      'name': 'Mr. Ajay K. Puri',\n",
      "                      'title': 'Executive Vice President of Worldwide Field '\n",
      "                               'Operations',\n",
      "                      'totalPay': 2295097,\n",
      "                      'unexercisedValue': 0,\n",
      "                      'yearBorn': 1955},\n",
      "                     {'exercisedValue': 0,\n",
      "                      'fiscalYear': 2024,\n",
      "                      'maxAge': 1,\n",
      "                      'name': 'Mr. Chris A. Malachowsky',\n",
      "                      'title': 'Co-Founder',\n",
      "                      'totalPay': 320000,\n",
      "                      'unexercisedValue': 0},\n",
      "                     {'age': 54,\n",
      "                      'exercisedValue': 0,\n",
      "                      'fiscalYear': 2024,\n",
      "                      'maxAge': 1,\n",
      "                      'name': 'Mr. Donald F. Robertson Jr.',\n",
      "                      'title': 'VP & Chief Accounting Officer',\n",
      "                      'unexercisedValue': 0,\n",
      "                      'yearBorn': 1969},\n",
      "                     {'age': 62,\n",
      "                      'exercisedValue': 0,\n",
      "                      'fiscalYear': 2024,\n",
      "                      'maxAge': 1,\n",
      "                      'name': 'Prof. William J. Dally Ph.D.',\n",
      "                      'title': 'Chief Scientist & Senior VP of Research',\n",
      "                      'unexercisedValue': 0,\n",
      "                      'yearBorn': 1961},\n",
      "                     {'exercisedValue': 0,\n",
      "                      'fiscalYear': 2024,\n",
      "                      'maxAge': 1,\n",
      "                      'name': 'Ms. Mylene  Mangalindan',\n",
      "                      'title': 'VP of Corporate Communications',\n",
      "                      'unexercisedValue': 0},\n",
      "                     {'exercisedValue': 0,\n",
      "                      'fiscalYear': 2024,\n",
      "                      'maxAge': 1,\n",
      "                      'name': 'Mr. Tommy  Lee',\n",
      "                      'title': 'Senior Vice President of Systems Engineering & '\n",
      "                               'Application',\n",
      "                      'unexercisedValue': 0}],\n",
      " 'compensationRisk': 4,\n",
      " 'country': 'United States',\n",
      " 'fullTimeEmployees': 29600,\n",
      " 'industry': 'Semiconductors',\n",
      " 'industryDisp': 'Semiconductors',\n",
      " 'industryKey': 'semiconductors',\n",
      " 'longBusinessSummary': 'NVIDIA Corporation provides graphics and compute and '\n",
      "                        'networking solutions in the United States, Taiwan, '\n",
      "                        'China, Hong Kong, and internationally. The Graphics '\n",
      "                        'segment offers GeForce GPUs for gaming and PCs, the '\n",
      "                        'GeForce NOW game streaming service and related '\n",
      "                        'infrastructure, and solutions for gaming platforms; '\n",
      "                        'Quadro/NVIDIA RTX GPUs for enterprise workstation '\n",
      "                        'graphics; virtual GPU or vGPU software for '\n",
      "                        'cloud-based visual and virtual computing; automotive '\n",
      "                        'platforms for infotainment systems; and Omniverse '\n",
      "                        'software for building and operating metaverse and 3D '\n",
      "                        'internet applications. The Compute & Networking '\n",
      "                        'segment comprises Data Center computing platforms and '\n",
      "                        'end-to-end networking platforms, including Quantum '\n",
      "                        'for InfiniBand and Spectrum for Ethernet; NVIDIA '\n",
      "                        'DRIVE automated-driving platform and automotive '\n",
      "                        'development agreements; Jetson robotics and other '\n",
      "                        'embedded platforms; NVIDIA AI Enterprise and other '\n",
      "                        'software; and DGX Cloud software and services. The '\n",
      "                        \"company's products are used in gaming, professional \"\n",
      "                        'visualization, data center, and automotive markets. '\n",
      "                        'It sells its products to original equipment '\n",
      "                        'manufacturers, original device manufacturers, system '\n",
      "                        'integrators and distributors, independent software '\n",
      "                        'vendors, cloud service providers, consumer internet '\n",
      "                        'companies, add-in board manufacturers, distributors, '\n",
      "                        'automotive manufacturers and tier-1 automotive '\n",
      "                        'suppliers, and other ecosystem participants. NVIDIA '\n",
      "                        'Corporation was incorporated in 1993 and is '\n",
      "                        'headquartered in Santa Clara, California.',\n",
      " 'phone': '408 486 2000',\n",
      " 'sector': 'Technology',\n",
      " 'sectorDisp': 'Technology',\n",
      " 'sectorKey': 'technology',\n",
      " 'shareHolderRightsRisk': 6,\n",
      " 'state': 'CA',\n",
      " 'website': 'https://www.nvidia.com',\n",
      " 'zip': '95051'}\n",
      "...and 112 more items.\n"
     ]
    }
   ],
   "source": [
    "# This function is used to limit the dictionary output for github format (I did it with AI)\n",
    "def print_limited_dict(d, limit=20):\n",
    "    limited_items = dict(itertools.islice(d.items(), limit))\n",
    "    \n",
    "    # Use pprint for vertical formatting\n",
    "    pprint.pprint(limited_items)\n",
    "    \n",
    "    if len(d) > limit:\n",
    "        print(f\"...and {len(d) - limit} more items.\")\n",
    "\n",
    "# Ticker's data\n",
    "print_limited_dict(nvda.info,limit=20)"
   ]
  },
  {
   "cell_type": "code",
   "execution_count": 50,
   "metadata": {},
   "outputs": [
    {
     "data": {
      "text/html": [
       "<div>\n",
       "<style scoped>\n",
       "    .dataframe tbody tr th:only-of-type {\n",
       "        vertical-align: middle;\n",
       "    }\n",
       "\n",
       "    .dataframe tbody tr th {\n",
       "        vertical-align: top;\n",
       "    }\n",
       "\n",
       "    .dataframe thead th {\n",
       "        text-align: right;\n",
       "    }\n",
       "</style>\n",
       "<table border=\"1\" class=\"dataframe\">\n",
       "  <thead>\n",
       "    <tr style=\"text-align: right;\">\n",
       "      <th></th>\n",
       "      <th>Open</th>\n",
       "      <th>High</th>\n",
       "      <th>Low</th>\n",
       "      <th>Close</th>\n",
       "      <th>Volume</th>\n",
       "      <th>Dividends</th>\n",
       "      <th>Stock Splits</th>\n",
       "    </tr>\n",
       "    <tr>\n",
       "      <th>Date</th>\n",
       "      <th></th>\n",
       "      <th></th>\n",
       "      <th></th>\n",
       "      <th></th>\n",
       "      <th></th>\n",
       "      <th></th>\n",
       "      <th></th>\n",
       "    </tr>\n",
       "  </thead>\n",
       "  <tbody>\n",
       "    <tr>\n",
       "      <th>2019-09-12 00:00:00-04:00</th>\n",
       "      <td>4.632864</td>\n",
       "      <td>4.687603</td>\n",
       "      <td>4.576882</td>\n",
       "      <td>4.584844</td>\n",
       "      <td>327840000</td>\n",
       "      <td>0.0</td>\n",
       "      <td>0.0</td>\n",
       "    </tr>\n",
       "    <tr>\n",
       "      <th>2019-09-13 00:00:00-04:00</th>\n",
       "      <td>4.518162</td>\n",
       "      <td>4.555235</td>\n",
       "      <td>4.483079</td>\n",
       "      <td>4.526870</td>\n",
       "      <td>324592000</td>\n",
       "      <td>0.0</td>\n",
       "      <td>0.0</td>\n",
       "    </tr>\n",
       "    <tr>\n",
       "      <th>2019-09-16 00:00:00-04:00</th>\n",
       "      <td>4.451730</td>\n",
       "      <td>4.518411</td>\n",
       "      <td>4.441280</td>\n",
       "      <td>4.483826</td>\n",
       "      <td>231832000</td>\n",
       "      <td>0.0</td>\n",
       "      <td>0.0</td>\n",
       "    </tr>\n",
       "    <tr>\n",
       "      <th>2019-09-17 00:00:00-04:00</th>\n",
       "      <td>4.490545</td>\n",
       "      <td>4.509455</td>\n",
       "      <td>4.444017</td>\n",
       "      <td>4.505225</td>\n",
       "      <td>223048000</td>\n",
       "      <td>0.0</td>\n",
       "      <td>0.0</td>\n",
       "    </tr>\n",
       "    <tr>\n",
       "      <th>2019-09-18 00:00:00-04:00</th>\n",
       "      <td>4.498258</td>\n",
       "      <td>4.513933</td>\n",
       "      <td>4.391517</td>\n",
       "      <td>4.478104</td>\n",
       "      <td>258152000</td>\n",
       "      <td>0.0</td>\n",
       "      <td>0.0</td>\n",
       "    </tr>\n",
       "  </tbody>\n",
       "</table>\n",
       "</div>"
      ],
      "text/plain": [
       "                               Open      High       Low     Close     Volume  Dividends  Stock Splits\n",
       "Date                                                                                                 \n",
       "2019-09-12 00:00:00-04:00  4.632864  4.687603  4.576882  4.584844  327840000        0.0           0.0\n",
       "2019-09-13 00:00:00-04:00  4.518162  4.555235  4.483079  4.526870  324592000        0.0           0.0\n",
       "2019-09-16 00:00:00-04:00  4.451730  4.518411  4.441280  4.483826  231832000        0.0           0.0\n",
       "2019-09-17 00:00:00-04:00  4.490545  4.509455  4.444017  4.505225  223048000        0.0           0.0\n",
       "2019-09-18 00:00:00-04:00  4.498258  4.513933  4.391517  4.478104  258152000        0.0           0.0"
      ]
     },
     "execution_count": 50,
     "metadata": {},
     "output_type": "execute_result"
    }
   ],
   "source": [
    "# Filtering 5 years of stock's price history with daily frequency.\n",
    "hist_5y = nvda.history(interval='1d',\n",
    "                       period='5y')\n",
    "hist_5y.head()"
   ]
  },
  {
   "cell_type": "code",
   "execution_count": 51,
   "metadata": {},
   "outputs": [
    {
     "data": {
      "text/html": [
       "<div>\n",
       "<style scoped>\n",
       "    .dataframe tbody tr th:only-of-type {\n",
       "        vertical-align: middle;\n",
       "    }\n",
       "\n",
       "    .dataframe tbody tr th {\n",
       "        vertical-align: top;\n",
       "    }\n",
       "\n",
       "    .dataframe thead th {\n",
       "        text-align: right;\n",
       "    }\n",
       "</style>\n",
       "<table border=\"1\" class=\"dataframe\">\n",
       "  <thead>\n",
       "    <tr style=\"text-align: right;\">\n",
       "      <th></th>\n",
       "      <th>Close</th>\n",
       "      <th>Stock Splits</th>\n",
       "    </tr>\n",
       "    <tr>\n",
       "      <th>Date</th>\n",
       "      <th></th>\n",
       "      <th></th>\n",
       "    </tr>\n",
       "  </thead>\n",
       "  <tbody>\n",
       "    <tr>\n",
       "      <th>2019-09-12 00:00:00-04:00</th>\n",
       "      <td>4.584844</td>\n",
       "      <td>0.0</td>\n",
       "    </tr>\n",
       "    <tr>\n",
       "      <th>2019-09-13 00:00:00-04:00</th>\n",
       "      <td>4.526870</td>\n",
       "      <td>0.0</td>\n",
       "    </tr>\n",
       "    <tr>\n",
       "      <th>2019-09-16 00:00:00-04:00</th>\n",
       "      <td>4.483826</td>\n",
       "      <td>0.0</td>\n",
       "    </tr>\n",
       "    <tr>\n",
       "      <th>2019-09-17 00:00:00-04:00</th>\n",
       "      <td>4.505225</td>\n",
       "      <td>0.0</td>\n",
       "    </tr>\n",
       "    <tr>\n",
       "      <th>2019-09-18 00:00:00-04:00</th>\n",
       "      <td>4.478104</td>\n",
       "      <td>0.0</td>\n",
       "    </tr>\n",
       "  </tbody>\n",
       "</table>\n",
       "</div>"
      ],
      "text/plain": [
       "                              Close  Stock Splits\n",
       "Date                                             \n",
       "2019-09-12 00:00:00-04:00  4.584844           0.0\n",
       "2019-09-13 00:00:00-04:00  4.526870           0.0\n",
       "2019-09-16 00:00:00-04:00  4.483826           0.0\n",
       "2019-09-17 00:00:00-04:00  4.505225           0.0\n",
       "2019-09-18 00:00:00-04:00  4.478104           0.0"
      ]
     },
     "execution_count": 51,
     "metadata": {},
     "output_type": "execute_result"
    }
   ],
   "source": [
    "# Were there any splits that may have impacted the stock's price?\n",
    "close_5y = hist_5y.loc[:,['Close','Stock Splits']]\n",
    "close_5y.head()"
   ]
  },
  {
   "cell_type": "markdown",
   "metadata": {},
   "source": [
    "During the 5-year period 2019-2024 there were splits on 2021-07-20 (1:4) and 2024-06-10 (1:10)."
   ]
  },
  {
   "cell_type": "code",
   "execution_count": 52,
   "metadata": {},
   "outputs": [
    {
     "data": {
      "text/html": [
       "<div>\n",
       "<style scoped>\n",
       "    .dataframe tbody tr th:only-of-type {\n",
       "        vertical-align: middle;\n",
       "    }\n",
       "\n",
       "    .dataframe tbody tr th {\n",
       "        vertical-align: top;\n",
       "    }\n",
       "\n",
       "    .dataframe thead th {\n",
       "        text-align: right;\n",
       "    }\n",
       "</style>\n",
       "<table border=\"1\" class=\"dataframe\">\n",
       "  <thead>\n",
       "    <tr style=\"text-align: right;\">\n",
       "      <th></th>\n",
       "      <th>Close</th>\n",
       "      <th>Stock Splits</th>\n",
       "    </tr>\n",
       "    <tr>\n",
       "      <th>Date</th>\n",
       "      <th></th>\n",
       "      <th></th>\n",
       "    </tr>\n",
       "  </thead>\n",
       "  <tbody>\n",
       "    <tr>\n",
       "      <th>2021-07-20 00:00:00-04:00</th>\n",
       "      <td>18.578415</td>\n",
       "      <td>4.0</td>\n",
       "    </tr>\n",
       "    <tr>\n",
       "      <th>2024-06-10 00:00:00-04:00</th>\n",
       "      <td>121.779999</td>\n",
       "      <td>10.0</td>\n",
       "    </tr>\n",
       "  </tbody>\n",
       "</table>\n",
       "</div>"
      ],
      "text/plain": [
       "                                Close  Stock Splits\n",
       "Date                                               \n",
       "2021-07-20 00:00:00-04:00   18.578415           4.0\n",
       "2024-06-10 00:00:00-04:00  121.779999          10.0"
      ]
     },
     "execution_count": 52,
     "metadata": {},
     "output_type": "execute_result"
    }
   ],
   "source": [
    "# Split dates and ratios\n",
    "close_5y[close_5y['Stock Splits'] != 0]"
   ]
  },
  {
   "cell_type": "markdown",
   "metadata": {},
   "source": [
    "As it can be seen below, the stock's price doesn't have any significant difference before and after each split. Therefore I won't adjust them."
   ]
  },
  {
   "cell_type": "code",
   "execution_count": 53,
   "metadata": {},
   "outputs": [
    {
     "name": "stdout",
     "output_type": "stream",
     "text": [
      "Stock split from 2021: \n",
      "                                Close  Stock Splits\n",
      "Date                                              \n",
      "2021-07-16 00:00:00-04:00  18.128229           0.0\n",
      "2021-07-19 00:00:00-04:00  18.745863           0.0\n",
      "2021-07-20 00:00:00-04:00  18.578415           4.0\n",
      "2021-07-21 00:00:00-04:00  19.374975           0.0\n",
      "2021-07-22 00:00:00-04:00  19.558645           0.0 \n",
      "\n",
      "Stock split from 2024: \n",
      "                                 Close  Stock Splits\n",
      "Date                                               \n",
      "2024-06-06 00:00:00-04:00  120.988060           0.0\n",
      "2024-06-07 00:00:00-04:00  120.878075           0.0\n",
      "2024-06-10 00:00:00-04:00  121.779999          10.0\n",
      "2024-06-11 00:00:00-04:00  120.910004           0.0\n",
      "2024-06-12 00:00:00-04:00  125.199997           0.0\n"
     ]
    }
   ],
   "source": [
    "split_2021 = (close_5y.index <= '2021-07-22') & (close_5y.index >= '2021-07-16')\n",
    "split_2024 = (close_5y.index <= '2024-06-12') & (close_5y.index >= '2024-06-06')\n",
    "\n",
    "print(f\"Stock split from 2021: \\n {close_5y.loc[split_2021,['Close','Stock Splits']]} \\n\")\n",
    "print(f\"Stock split from 2024: \\n {close_5y.loc[split_2024,['Close','Stock Splits']]}\")"
   ]
  },
  {
   "cell_type": "markdown",
   "metadata": {},
   "source": [
    "## <ins>**Exponential Moving Average (EMA) Calcs**:</ins>\n",
    "    EMA(t) = [Price(t) - EMA(t-1)] * 2 / (period + 1) + EMA(t-1)"
   ]
  },
  {
   "cell_type": "code",
   "execution_count": 54,
   "metadata": {},
   "outputs": [
    {
     "data": {
      "text/html": [
       "<div>\n",
       "<style scoped>\n",
       "    .dataframe tbody tr th:only-of-type {\n",
       "        vertical-align: middle;\n",
       "    }\n",
       "\n",
       "    .dataframe tbody tr th {\n",
       "        vertical-align: top;\n",
       "    }\n",
       "\n",
       "    .dataframe thead th {\n",
       "        text-align: right;\n",
       "    }\n",
       "</style>\n",
       "<table border=\"1\" class=\"dataframe\">\n",
       "  <thead>\n",
       "    <tr style=\"text-align: right;\">\n",
       "      <th></th>\n",
       "      <th>Close</th>\n",
       "      <th>Stock Splits</th>\n",
       "      <th>EMA_12d</th>\n",
       "      <th>EMA_26d</th>\n",
       "      <th>EMA_50d</th>\n",
       "      <th>EMA_100d</th>\n",
       "    </tr>\n",
       "    <tr>\n",
       "      <th>Date</th>\n",
       "      <th></th>\n",
       "      <th></th>\n",
       "      <th></th>\n",
       "      <th></th>\n",
       "      <th></th>\n",
       "      <th></th>\n",
       "    </tr>\n",
       "  </thead>\n",
       "  <tbody>\n",
       "    <tr>\n",
       "      <th>2024-09-12 00:00:00-04:00</th>\n",
       "      <td>119.690002</td>\n",
       "      <td>0.0</td>\n",
       "      <td>114.023319</td>\n",
       "      <td>115.572762</td>\n",
       "      <td>115.542057</td>\n",
       "      <td>109.554549</td>\n",
       "    </tr>\n",
       "    <tr>\n",
       "      <th>2024-09-11 00:00:00-04:00</th>\n",
       "      <td>116.910004</td>\n",
       "      <td>0.0</td>\n",
       "      <td>112.993013</td>\n",
       "      <td>115.243383</td>\n",
       "      <td>115.372754</td>\n",
       "      <td>109.349793</td>\n",
       "    </tr>\n",
       "    <tr>\n",
       "      <th>2024-09-10 00:00:00-04:00</th>\n",
       "      <td>108.099998</td>\n",
       "      <td>0.0</td>\n",
       "      <td>112.280833</td>\n",
       "      <td>115.110053</td>\n",
       "      <td>115.310009</td>\n",
       "      <td>109.197061</td>\n",
       "    </tr>\n",
       "    <tr>\n",
       "      <th>2024-09-09 00:00:00-04:00</th>\n",
       "      <td>106.470001</td>\n",
       "      <td>0.0</td>\n",
       "      <td>113.040985</td>\n",
       "      <td>115.670858</td>\n",
       "      <td>115.604295</td>\n",
       "      <td>109.219224</td>\n",
       "    </tr>\n",
       "    <tr>\n",
       "      <th>2024-09-06 00:00:00-04:00</th>\n",
       "      <td>102.830002</td>\n",
       "      <td>0.0</td>\n",
       "      <td>114.235709</td>\n",
       "      <td>116.406926</td>\n",
       "      <td>115.977123</td>\n",
       "      <td>109.274764</td>\n",
       "    </tr>\n",
       "    <tr>\n",
       "      <th>...</th>\n",
       "      <td>...</td>\n",
       "      <td>...</td>\n",
       "      <td>...</td>\n",
       "      <td>...</td>\n",
       "      <td>...</td>\n",
       "      <td>...</td>\n",
       "    </tr>\n",
       "    <tr>\n",
       "      <th>2019-09-18 00:00:00-04:00</th>\n",
       "      <td>4.478104</td>\n",
       "      <td>0.0</td>\n",
       "      <td>4.541527</td>\n",
       "      <td>4.561652</td>\n",
       "      <td>4.571985</td>\n",
       "      <td>4.578182</td>\n",
       "    </tr>\n",
       "    <tr>\n",
       "      <th>2019-09-17 00:00:00-04:00</th>\n",
       "      <td>4.505225</td>\n",
       "      <td>0.0</td>\n",
       "      <td>4.553059</td>\n",
       "      <td>4.568336</td>\n",
       "      <td>4.575817</td>\n",
       "      <td>4.580203</td>\n",
       "    </tr>\n",
       "    <tr>\n",
       "      <th>2019-09-16 00:00:00-04:00</th>\n",
       "      <td>4.483826</td>\n",
       "      <td>0.0</td>\n",
       "      <td>4.561756</td>\n",
       "      <td>4.573385</td>\n",
       "      <td>4.578698</td>\n",
       "      <td>4.581718</td>\n",
       "    </tr>\n",
       "    <tr>\n",
       "      <th>2019-09-13 00:00:00-04:00</th>\n",
       "      <td>4.526870</td>\n",
       "      <td>0.0</td>\n",
       "      <td>4.575925</td>\n",
       "      <td>4.580549</td>\n",
       "      <td>4.582570</td>\n",
       "      <td>4.583696</td>\n",
       "    </tr>\n",
       "    <tr>\n",
       "      <th>2019-09-12 00:00:00-04:00</th>\n",
       "      <td>4.584844</td>\n",
       "      <td>0.0</td>\n",
       "      <td>4.584844</td>\n",
       "      <td>4.584844</td>\n",
       "      <td>4.584844</td>\n",
       "      <td>4.584844</td>\n",
       "    </tr>\n",
       "  </tbody>\n",
       "</table>\n",
       "<p>1259 rows × 6 columns</p>\n",
       "</div>"
      ],
      "text/plain": [
       "                                Close  Stock Splits     EMA_12d     EMA_26d     EMA_50d    EMA_100d\n",
       "Date                                                                                               \n",
       "2024-09-12 00:00:00-04:00  119.690002           0.0  114.023319  115.572762  115.542057  109.554549\n",
       "2024-09-11 00:00:00-04:00  116.910004           0.0  112.993013  115.243383  115.372754  109.349793\n",
       "2024-09-10 00:00:00-04:00  108.099998           0.0  112.280833  115.110053  115.310009  109.197061\n",
       "2024-09-09 00:00:00-04:00  106.470001           0.0  113.040985  115.670858  115.604295  109.219224\n",
       "2024-09-06 00:00:00-04:00  102.830002           0.0  114.235709  116.406926  115.977123  109.274764\n",
       "...                               ...           ...         ...         ...         ...         ...\n",
       "2019-09-18 00:00:00-04:00    4.478104           0.0    4.541527    4.561652    4.571985    4.578182\n",
       "2019-09-17 00:00:00-04:00    4.505225           0.0    4.553059    4.568336    4.575817    4.580203\n",
       "2019-09-16 00:00:00-04:00    4.483826           0.0    4.561756    4.573385    4.578698    4.581718\n",
       "2019-09-13 00:00:00-04:00    4.526870           0.0    4.575925    4.580549    4.582570    4.583696\n",
       "2019-09-12 00:00:00-04:00    4.584844           0.0    4.584844    4.584844    4.584844    4.584844\n",
       "\n",
       "[1259 rows x 6 columns]"
      ]
     },
     "execution_count": 54,
     "metadata": {},
     "output_type": "execute_result"
    }
   ],
   "source": [
    "# EMA(t)\n",
    "\n",
    "close_5y['EMA_12d'] = close_5y['Close'].ewm(span=12,adjust=False).mean()\n",
    "close_5y['EMA_26d'] = close_5y['Close'].ewm(span=26,adjust=False).mean()\n",
    "close_5y['EMA_50d'] = close_5y['Close'].ewm(span=50,adjust=False).mean()\n",
    "close_5y['EMA_100d'] = close_5y['Close'].ewm(span=100,adjust=False).mean()\n",
    "\n",
    "close_5y.sort_index(ascending=False)#.iloc[:5,[0,2,3,4,5]]\n",
    "\n",
    "#close_5y.drop(['EMA_12d_26d','Signal_12d_26d'],axis=1)"
   ]
  },
  {
   "cell_type": "markdown",
   "metadata": {},
   "source": [
    "## <ins>**EMAs Comparison**</ins>"
   ]
  },
  {
   "cell_type": "markdown",
   "metadata": {},
   "source": [
    "### _12 vs 26 days_"
   ]
  },
  {
   "cell_type": "markdown",
   "metadata": {},
   "source": [
    "#### Table Creation"
   ]
  },
  {
   "cell_type": "code",
   "execution_count": 55,
   "metadata": {},
   "outputs": [
    {
     "data": {
      "text/html": [
       "<div>\n",
       "<style scoped>\n",
       "    .dataframe tbody tr th:only-of-type {\n",
       "        vertical-align: middle;\n",
       "    }\n",
       "\n",
       "    .dataframe tbody tr th {\n",
       "        vertical-align: top;\n",
       "    }\n",
       "\n",
       "    .dataframe thead th {\n",
       "        text-align: right;\n",
       "    }\n",
       "</style>\n",
       "<table border=\"1\" class=\"dataframe\">\n",
       "  <thead>\n",
       "    <tr style=\"text-align: right;\">\n",
       "      <th></th>\n",
       "      <th>Close</th>\n",
       "      <th>EMA_12d</th>\n",
       "      <th>EMA_26d</th>\n",
       "      <th>EMA_comp</th>\n",
       "    </tr>\n",
       "    <tr>\n",
       "      <th>Date</th>\n",
       "      <th></th>\n",
       "      <th></th>\n",
       "      <th></th>\n",
       "      <th></th>\n",
       "    </tr>\n",
       "  </thead>\n",
       "  <tbody>\n",
       "    <tr>\n",
       "      <th>2024-09-12 00:00:00-04:00</th>\n",
       "      <td>119.690002</td>\n",
       "      <td>114.023319</td>\n",
       "      <td>115.572762</td>\n",
       "      <td>-1.549443</td>\n",
       "    </tr>\n",
       "    <tr>\n",
       "      <th>2024-09-11 00:00:00-04:00</th>\n",
       "      <td>116.910004</td>\n",
       "      <td>112.993013</td>\n",
       "      <td>115.243383</td>\n",
       "      <td>-2.250370</td>\n",
       "    </tr>\n",
       "    <tr>\n",
       "      <th>2024-09-10 00:00:00-04:00</th>\n",
       "      <td>108.099998</td>\n",
       "      <td>112.280833</td>\n",
       "      <td>115.110053</td>\n",
       "      <td>-2.829220</td>\n",
       "    </tr>\n",
       "    <tr>\n",
       "      <th>2024-09-09 00:00:00-04:00</th>\n",
       "      <td>106.470001</td>\n",
       "      <td>113.040985</td>\n",
       "      <td>115.670858</td>\n",
       "      <td>-2.629873</td>\n",
       "    </tr>\n",
       "    <tr>\n",
       "      <th>2024-09-06 00:00:00-04:00</th>\n",
       "      <td>102.830002</td>\n",
       "      <td>114.235709</td>\n",
       "      <td>116.406926</td>\n",
       "      <td>-2.171217</td>\n",
       "    </tr>\n",
       "  </tbody>\n",
       "</table>\n",
       "</div>"
      ],
      "text/plain": [
       "                                Close     EMA_12d     EMA_26d  EMA_comp\n",
       "Date                                                                   \n",
       "2024-09-12 00:00:00-04:00  119.690002  114.023319  115.572762 -1.549443\n",
       "2024-09-11 00:00:00-04:00  116.910004  112.993013  115.243383 -2.250370\n",
       "2024-09-10 00:00:00-04:00  108.099998  112.280833  115.110053 -2.829220\n",
       "2024-09-09 00:00:00-04:00  106.470001  113.040985  115.670858 -2.629873\n",
       "2024-09-06 00:00:00-04:00  102.830002  114.235709  116.406926 -2.171217"
      ]
     },
     "execution_count": 55,
     "metadata": {},
     "output_type": "execute_result"
    }
   ],
   "source": [
    "cols_1 = ['Close','EMA_12d','EMA_26d']\n",
    "\n",
    "crossover_12d_26d = close_5y.loc[:,cols_1]\n",
    "\n",
    "crossover_12d_26d.loc[:,'EMA_comp'] = crossover_12d_26d.loc[:,'EMA_12d'] - crossover_12d_26d.loc[:,'EMA_26d']\n",
    "\n",
    "crossover_sorted = crossover_12d_26d.sort_index(ascending=False)\n",
    "crossover_sorted.head()"
   ]
  },
  {
   "cell_type": "markdown",
   "metadata": {},
   "source": [
    "#### Line Chart with Closing Price and EMAs"
   ]
  },
  {
   "cell_type": "code",
   "execution_count": 56,
   "metadata": {},
   "outputs": [
    {
     "name": "stdout",
     "output_type": "stream",
     "text": [
      "                          stock_info       value\n",
      "Date                                            \n",
      "2024-09-12 00:00:00-04:00      Close  119.690002\n",
      "2024-09-12 00:00:00-04:00    EMA_12d  114.023319\n",
      "2024-09-12 00:00:00-04:00    EMA_26d  115.572762\n"
     ]
    },
    {
     "data": {
      "image/png": "[encoded data removed]",
      "text/plain": [
       "<Figure size 624.875x500 with 1 Axes>"
      ]
     },
     "metadata": {},
     "output_type": "display_data"
    }
   ],
   "source": [
    "# Parsing for line chart\n",
    "EMA_melt_1 = crossover_sorted.reset_index().melt(id_vars='Date',\n",
    "                                                value_vars=['Close','EMA_12d','EMA_26d'],\n",
    "                                                var_name='stock_info',\n",
    "                                                value_name='value').set_index('Date').sort_index(ascending=False)\n",
    "print(EMA_melt_1.head(3))\n",
    "\n",
    "# Last months chart\n",
    "long_mask_1 = (EMA_melt_1.index >= '2024-04-01')\n",
    "long_EMA_comp_1 = EMA_melt_1.loc[long_mask_1]\n",
    "\n",
    "sns.color_palette('colorblind',3)\n",
    "\n",
    "sns.set_context('notebook')\n",
    "\n",
    "sns.relplot(kind='line',\n",
    "            data=long_EMA_comp_1,\n",
    "            x=long_EMA_comp_1.index,\n",
    "            y='value',\n",
    "            hue='stock_info',\n",
    "            hue_order=['Close','EMA_12d','EMA_26d'])\n",
    "\n",
    "plt.show()"
   ]
  },
  {
   "cell_type": "markdown",
   "metadata": {},
   "source": [
    "#### Finding the Intersections"
   ]
  },
  {
   "cell_type": "code",
   "execution_count": 57,
   "metadata": {},
   "outputs": [
    {
     "name": "stdout",
     "output_type": "stream",
     "text": [
      "Downward direction: \n",
      "                               Close   EMA_12d   EMA_26d  EMA_comp\n",
      "Date                                                             \n",
      "2020-03-10 00:00:00-04:00  6.504643  6.658461  6.629893  0.028568\n",
      "2020-03-11 00:00:00-04:00  6.140646  6.578797  6.593652 -0.014855 \n",
      "\n",
      "Upward direction: \n",
      "                               Close   EMA_12d   EMA_26d  EMA_comp\n",
      "Date                                                             \n",
      "2019-10-10 00:00:00-04:00  4.553991  4.462693  4.468872 -0.006179\n",
      "2019-10-11 00:00:00-04:00  4.627640  4.488070  4.480633  0.007437\n"
     ]
    }
   ],
   "source": [
    "mask_down_1 = (crossover_12d_26d['EMA_comp'].shift(-1) < 0) & (crossover_12d_26d['EMA_comp'] > 0).shift(1)\n",
    "mask_up_1 = (crossover_12d_26d['EMA_comp'].shift(-1) > 0) & (crossover_12d_26d['EMA_comp'] < 0).shift(1)\n",
    "\n",
    "print(f'Downward direction: \\n {crossover_12d_26d.loc[mask_down_1].head(2)} \\n')\n",
    "print(f'Upward direction: \\n {crossover_12d_26d.loc[mask_up_1].head(2)}')"
   ]
  },
  {
   "cell_type": "markdown",
   "metadata": {},
   "source": [
    "_Each crossover will be marked using the following logic:_\n",
    "- 'Sell' signal for the instance in which the 12-day-EMA crosses the 26-day-EMA downwards.\n",
    "- 'Buy' signal for the instance in which the 12-day-EMA crosses the 26-day-EMA upwards."
   ]
  },
  {
   "cell_type": "code",
   "execution_count": 58,
   "metadata": {},
   "outputs": [
    {
     "name": "stdout",
     "output_type": "stream",
     "text": [
      "Downward direction: \n",
      "                                Close    EMA_12d    EMA_26d  EMA_comp Signal\n",
      "Date                                                                       \n",
      "2020-03-10 00:00:00-04:00   6.504643   6.658461   6.629893  0.028568    NaN\n",
      "2020-03-11 00:00:00-04:00   6.140646   6.578797   6.593652 -0.014855   Sell\n",
      "2020-10-29 00:00:00-04:00  12.989198  13.300114  13.280768  0.019345    NaN \n",
      "\n",
      "Upward direction: \n",
      "                               Close   EMA_12d   EMA_26d  EMA_comp Signal\n",
      "Date                                                                    \n",
      "2019-10-10 00:00:00-04:00  4.553991  4.462693  4.468872 -0.006179    NaN\n",
      "2019-10-11 00:00:00-04:00  4.627640  4.488070  4.480633  0.007437    Buy\n",
      "2020-04-03 00:00:00-04:00  6.076864  6.138769  6.146263 -0.007494    NaN\n"
     ]
    }
   ],
   "source": [
    "crossover_12d_26d.loc[(crossover_12d_26d['EMA_comp'].shift(1) > 0) & (crossover_12d_26d['EMA_comp'] < 0), 'Signal'] = 'Sell'\n",
    "crossover_12d_26d.loc[(crossover_12d_26d['EMA_comp'].shift(1) < 0) & (crossover_12d_26d['EMA_comp'] > 0), 'Signal'] = 'Buy'\n",
    "\n",
    "pd.set_option('display.max_columns', None)\n",
    "pd.set_option('display.width', 1000)  \n",
    "\n",
    "print(f'Downward direction: \\n {crossover_12d_26d[mask_down_1].head(3)} \\n')\n",
    "print(f'Upward direction: \\n {crossover_12d_26d[mask_up_1].head(3)}')"
   ]
  },
  {
   "cell_type": "markdown",
   "metadata": {},
   "source": [
    "To properly work with these signals, I'll filter the crossover_12d_26d table to keep only those rows."
   ]
  },
  {
   "cell_type": "code",
   "execution_count": 59,
   "metadata": {},
   "outputs": [],
   "source": [
    "# row mask\n",
    "signal_only_1 = crossover_12d_26d['Signal'].isin(['Buy','Sell'])\n",
    "\n",
    "# Filtered table\n",
    "crossover_12d_26d_sig = crossover_12d_26d.loc[signal_only_1,['Close','Signal']]"
   ]
  },
  {
   "cell_type": "markdown",
   "metadata": {},
   "source": [
    "To compare the stock's holding to the EMA crossover strategy, the first thing you'd do is to buy said stock. Therefore, the first signal has to be 'Buy'. The last one could be to buy, but for simplicity I'll set it to a selling one. (I may change this in following updates)"
   ]
  },
  {
   "cell_type": "code",
   "execution_count": 60,
   "metadata": {},
   "outputs": [],
   "source": [
    "def first_last_signals(crossover_sig_df):\n",
    "    \n",
    "    # Check the first signal\n",
    "    first_signal = crossover_sig_df['Signal'].iloc[0] \n",
    "    \n",
    "    # Check the last signal\n",
    "    last_signal = crossover_sig_df['Signal'].iloc[-1] \n",
    "    \n",
    "    # If first signal is 'Sell', filter it out\n",
    "    if first_signal == 'Sell': \n",
    "        crossover_sig_df = crossover_sig_df.iloc[1:] \n",
    "        \n",
    "    # If last signal is 'Buy', filter it out    \n",
    "    if last_signal == 'Buy': \n",
    "        crossover_sig_df = crossover_sig_df.iloc[:-1]"
   ]
  },
  {
   "cell_type": "code",
   "execution_count": 61,
   "metadata": {},
   "outputs": [],
   "source": [
    "# Filtered crossover_sig_df\n",
    "first_last_signals(crossover_12d_26d_sig)"
   ]
  },
  {
   "cell_type": "markdown",
   "metadata": {},
   "source": [
    "#### Profit/Loss Ratios"
   ]
  },
  {
   "cell_type": "code",
   "execution_count": 62,
   "metadata": {},
   "outputs": [],
   "source": [
    "# EMAs crossover profit/loss ratio(t)\n",
    "crossover_12d_26d_sig['P&L_ratio_12d_26d'] = crossover_12d_26d_sig['Close'].shift(-1) / crossover_12d_26d_sig['Close']\n",
    "\n",
    "# Stock holding profit/loss total ratio\n",
    "crossover_12d_26d_rate = crossover_12d_26d_sig['P&L_ratio_12d_26d'].product()\n",
    "\n",
    "#print(crossover_12d_26d_sig)"
   ]
  },
  {
   "cell_type": "markdown",
   "metadata": {},
   "source": [
    "#### Total Profit/Loss"
   ]
  },
  {
   "cell_type": "code",
   "execution_count": 63,
   "metadata": {},
   "outputs": [],
   "source": [
    "# Stock's holding profit/loss\n",
    "Holding_earnings_1 = crossover_12d_26d_sig['Close'].iloc[-1] - crossover_12d_26d_sig['Close'].iloc[0]\n",
    "\n",
    "# Calculo ganancia/pérdida total en valor absoluto entre el 2019-10-10 y 2024-09-04\n",
    "crossover_12d_26d_earnings = crossover_12d_26d_sig['Close'].iloc[0] * (crossover_12d_26d_rate - 1)"
   ]
  },
  {
   "cell_type": "code",
   "execution_count": 64,
   "metadata": {},
   "outputs": [
    {
     "name": "stdout",
     "output_type": "stream",
     "text": [
      "\u001b[1m EMA crossover strategy earnings: \u001b[0m 101.5824 USD\n",
      "\u001b[1m Stock holding strategy earnings: \u001b[0m 101.5824 USD\n",
      "\u001b[1m Difference: \u001b[0m -2.8e-14\n"
     ]
    }
   ],
   "source": [
    "print(f'\\033[1m EMA crossover strategy earnings: \\033[0m {round(crossover_12d_26d_earnings,4)} USD')\n",
    "print(f'\\033[1m Stock holding strategy earnings: \\033[0m {round(Holding_earnings_1,4)} USD')\n",
    "print(f'\\033[1m Difference: \\033[0m {round(crossover_12d_26d_earnings - Holding_earnings_1,15)}')"
   ]
  },
  {
   "cell_type": "markdown",
   "metadata": {},
   "source": [
    "## Test"
   ]
  },
  {
   "cell_type": "markdown",
   "metadata": {},
   "source": [
    "### Table Creation"
   ]
  },
  {
   "cell_type": "code",
   "execution_count": 65,
   "metadata": {},
   "outputs": [
    {
     "data": {
      "text/html": [
       "<div>\n",
       "<style scoped>\n",
       "    .dataframe tbody tr th:only-of-type {\n",
       "        vertical-align: middle;\n",
       "    }\n",
       "\n",
       "    .dataframe tbody tr th {\n",
       "        vertical-align: top;\n",
       "    }\n",
       "\n",
       "    .dataframe thead th {\n",
       "        text-align: right;\n",
       "    }\n",
       "</style>\n",
       "<table border=\"1\" class=\"dataframe\">\n",
       "  <thead>\n",
       "    <tr style=\"text-align: right;\">\n",
       "      <th></th>\n",
       "      <th>Close</th>\n",
       "      <th>EMA_12d</th>\n",
       "      <th>EMA_50d</th>\n",
       "      <th>EMA_comp</th>\n",
       "    </tr>\n",
       "    <tr>\n",
       "      <th>Date</th>\n",
       "      <th></th>\n",
       "      <th></th>\n",
       "      <th></th>\n",
       "      <th></th>\n",
       "    </tr>\n",
       "  </thead>\n",
       "  <tbody>\n",
       "    <tr>\n",
       "      <th>2019-09-12 00:00:00-04:00</th>\n",
       "      <td>4.584844</td>\n",
       "      <td>4.584844</td>\n",
       "      <td>4.584844</td>\n",
       "      <td>0.000000</td>\n",
       "    </tr>\n",
       "    <tr>\n",
       "      <th>2019-09-13 00:00:00-04:00</th>\n",
       "      <td>4.526870</td>\n",
       "      <td>4.575925</td>\n",
       "      <td>4.582570</td>\n",
       "      <td>-0.006646</td>\n",
       "    </tr>\n",
       "    <tr>\n",
       "      <th>2019-09-16 00:00:00-04:00</th>\n",
       "      <td>4.483826</td>\n",
       "      <td>4.561756</td>\n",
       "      <td>4.578698</td>\n",
       "      <td>-0.016942</td>\n",
       "    </tr>\n",
       "    <tr>\n",
       "      <th>2019-09-17 00:00:00-04:00</th>\n",
       "      <td>4.505225</td>\n",
       "      <td>4.553059</td>\n",
       "      <td>4.575817</td>\n",
       "      <td>-0.022758</td>\n",
       "    </tr>\n",
       "    <tr>\n",
       "      <th>2019-09-18 00:00:00-04:00</th>\n",
       "      <td>4.478104</td>\n",
       "      <td>4.541527</td>\n",
       "      <td>4.571985</td>\n",
       "      <td>-0.030458</td>\n",
       "    </tr>\n",
       "  </tbody>\n",
       "</table>\n",
       "</div>"
      ],
      "text/plain": [
       "                              Close   EMA_12d   EMA_50d  EMA_comp\n",
       "Date                                                             \n",
       "2019-09-12 00:00:00-04:00  4.584844  4.584844  4.584844  0.000000\n",
       "2019-09-13 00:00:00-04:00  4.526870  4.575925  4.582570 -0.006646\n",
       "2019-09-16 00:00:00-04:00  4.483826  4.561756  4.578698 -0.016942\n",
       "2019-09-17 00:00:00-04:00  4.505225  4.553059  4.575817 -0.022758\n",
       "2019-09-18 00:00:00-04:00  4.478104  4.541527  4.571985 -0.030458"
      ]
     },
     "execution_count": 65,
     "metadata": {},
     "output_type": "execute_result"
    }
   ],
   "source": [
    "cols = ['Close','EMA_12d','EMA_50d']\n",
    "\n",
    "crossover_12d_50d = close_5y.loc[:,cols]\n",
    "crossover_12d_50d.loc[:,'EMA_comp'] = crossover_12d_50d.loc[:,'EMA_12d'] - crossover_12d_50d.loc[:,'EMA_50d']\n",
    "crossover_12d_50d.head()"
   ]
  }
 ],
 "metadata": {
  "kernelspec": {
   "display_name": "Python 3",
   "language": "python",
   "name": "python3"
  },
  "language_info": {
   "codemirror_mode": {
    "name": "ipython",
    "version": 3
   },
   "file_extension": ".py",
   "mimetype": "text/x-python",
   "name": "python",
   "nbconvert_exporter": "python",
   "pygments_lexer": "ipython3",
   "version": "3.11.5"
  }
 },
 "nbformat": 4,
 "nbformat_minor": 2
}

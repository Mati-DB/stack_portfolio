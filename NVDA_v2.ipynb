{
 "cells": [
  {
   "cell_type": "markdown",
   "metadata": {},
   "source": [
    "# <ins>**Is there a significant difference between holding stocks over an extended period, and using EMAs in a dynamic trading strategy?**</ins>\n",
    "\n",
    "This project's objective is to find out if it is convenient to use the EMAs crossover strategy. For this, I'll use the relationships between EMAs with different time frames (12, 26, 50 and 100 days). \n",
    "\n",
    "Caveats:\n",
    "The comparison here uses only one technical indicator while an actual trader would use multiple indicators to minimize bias and risk. This script may not be efficient as I minimized the use of an AI to correcly reflect my progress in python."
   ]
  },
  {
   "cell_type": "code",
   "execution_count": 31,
   "metadata": {},
   "outputs": [],
   "source": [
    "# Packages and initial variable\n",
    "\n",
    "import yfinance as yf\n",
    "import pandas as pd\n",
    "import seaborn as sns\n",
    "import matplotlib.pyplot as plt\n",
    "from datetime import datetime"
   ]
  },
  {
   "cell_type": "markdown",
   "metadata": {},
   "source": [
    "## First Steps"
   ]
  },
  {
   "cell_type": "markdown",
   "metadata": {},
   "source": [
    "I use fixed dates so it doesn't change every day. Once I finish the project, I'll use: _hist_5y = nvda.history(interval='1d',period='5y')_"
   ]
  },
  {
   "cell_type": "code",
   "execution_count": 32,
   "metadata": {},
   "outputs": [],
   "source": [
    "nvda_set_hist = yf.Ticker(\"NVDA\").history(start='2019-09-13',end='2024-09-12')"
   ]
  },
  {
   "cell_type": "code",
   "execution_count": 34,
   "metadata": {},
   "outputs": [
    {
     "data": {
      "text/html": [
       "<div>\n",
       "<style scoped>\n",
       "    .dataframe tbody tr th:only-of-type {\n",
       "        vertical-align: middle;\n",
       "    }\n",
       "\n",
       "    .dataframe tbody tr th {\n",
       "        vertical-align: top;\n",
       "    }\n",
       "\n",
       "    .dataframe thead th {\n",
       "        text-align: right;\n",
       "    }\n",
       "</style>\n",
       "<table border=\"1\" class=\"dataframe\">\n",
       "  <thead>\n",
       "    <tr style=\"text-align: right;\">\n",
       "      <th></th>\n",
       "      <th>Open</th>\n",
       "      <th>High</th>\n",
       "      <th>Low</th>\n",
       "      <th>Close</th>\n",
       "      <th>Volume</th>\n",
       "      <th>Dividends</th>\n",
       "      <th>Stock Splits</th>\n",
       "    </tr>\n",
       "    <tr>\n",
       "      <th>Date</th>\n",
       "      <th></th>\n",
       "      <th></th>\n",
       "      <th></th>\n",
       "      <th></th>\n",
       "      <th></th>\n",
       "      <th></th>\n",
       "      <th></th>\n",
       "    </tr>\n",
       "  </thead>\n",
       "  <tbody>\n",
       "    <tr>\n",
       "      <th>2019-09-13 00:00:00-04:00</th>\n",
       "      <td>4.517776</td>\n",
       "      <td>4.554846</td>\n",
       "      <td>4.482696</td>\n",
       "      <td>4.526484</td>\n",
       "      <td>324592000</td>\n",
       "      <td>0.0</td>\n",
       "      <td>0.0</td>\n",
       "    </tr>\n",
       "    <tr>\n",
       "      <th>2019-09-16 00:00:00-04:00</th>\n",
       "      <td>4.451348</td>\n",
       "      <td>4.518024</td>\n",
       "      <td>4.440899</td>\n",
       "      <td>4.483442</td>\n",
       "      <td>231832000</td>\n",
       "      <td>0.0</td>\n",
       "      <td>0.0</td>\n",
       "    </tr>\n",
       "    <tr>\n",
       "      <th>2019-09-17 00:00:00-04:00</th>\n",
       "      <td>4.490160</td>\n",
       "      <td>4.509068</td>\n",
       "      <td>4.443637</td>\n",
       "      <td>4.504839</td>\n",
       "      <td>223048000</td>\n",
       "      <td>0.0</td>\n",
       "      <td>0.0</td>\n",
       "    </tr>\n",
       "    <tr>\n",
       "      <th>2019-09-18 00:00:00-04:00</th>\n",
       "      <td>4.497873</td>\n",
       "      <td>4.513547</td>\n",
       "      <td>4.391142</td>\n",
       "      <td>4.477721</td>\n",
       "      <td>258152000</td>\n",
       "      <td>0.0</td>\n",
       "      <td>0.0</td>\n",
       "    </tr>\n",
       "    <tr>\n",
       "      <th>2019-09-19 00:00:00-04:00</th>\n",
       "      <td>4.483691</td>\n",
       "      <td>4.502101</td>\n",
       "      <td>4.391389</td>\n",
       "      <td>4.402088</td>\n",
       "      <td>245476000</td>\n",
       "      <td>0.0</td>\n",
       "      <td>0.0</td>\n",
       "    </tr>\n",
       "  </tbody>\n",
       "</table>\n",
       "</div>"
      ],
      "text/plain": [
       "                               Open      High       Low     Close     Volume  Dividends  Stock Splits\n",
       "Date                                                                                                 \n",
       "2019-09-13 00:00:00-04:00  4.517776  4.554846  4.482696  4.526484  324592000        0.0           0.0\n",
       "2019-09-16 00:00:00-04:00  4.451348  4.518024  4.440899  4.483442  231832000        0.0           0.0\n",
       "2019-09-17 00:00:00-04:00  4.490160  4.509068  4.443637  4.504839  223048000        0.0           0.0\n",
       "2019-09-18 00:00:00-04:00  4.497873  4.513547  4.391142  4.477721  258152000        0.0           0.0\n",
       "2019-09-19 00:00:00-04:00  4.483691  4.502101  4.391389  4.402088  245476000        0.0           0.0"
      ]
     },
     "execution_count": 34,
     "metadata": {},
     "output_type": "execute_result"
    }
   ],
   "source": [
    "nvda_set_hist.head()"
   ]
  },
  {
   "cell_type": "code",
   "execution_count": 35,
   "metadata": {},
   "outputs": [
    {
     "data": {
      "text/html": [
       "<div>\n",
       "<style scoped>\n",
       "    .dataframe tbody tr th:only-of-type {\n",
       "        vertical-align: middle;\n",
       "    }\n",
       "\n",
       "    .dataframe tbody tr th {\n",
       "        vertical-align: top;\n",
       "    }\n",
       "\n",
       "    .dataframe thead th {\n",
       "        text-align: right;\n",
       "    }\n",
       "</style>\n",
       "<table border=\"1\" class=\"dataframe\">\n",
       "  <thead>\n",
       "    <tr style=\"text-align: right;\">\n",
       "      <th></th>\n",
       "      <th>Close</th>\n",
       "      <th>Stock Splits</th>\n",
       "    </tr>\n",
       "    <tr>\n",
       "      <th>Date</th>\n",
       "      <th></th>\n",
       "      <th></th>\n",
       "    </tr>\n",
       "  </thead>\n",
       "  <tbody>\n",
       "    <tr>\n",
       "      <th>2019-09-13 00:00:00-04:00</th>\n",
       "      <td>4.526484</td>\n",
       "      <td>0.0</td>\n",
       "    </tr>\n",
       "    <tr>\n",
       "      <th>2019-09-16 00:00:00-04:00</th>\n",
       "      <td>4.483444</td>\n",
       "      <td>0.0</td>\n",
       "    </tr>\n",
       "    <tr>\n",
       "      <th>2019-09-17 00:00:00-04:00</th>\n",
       "      <td>4.504839</td>\n",
       "      <td>0.0</td>\n",
       "    </tr>\n",
       "    <tr>\n",
       "      <th>2019-09-18 00:00:00-04:00</th>\n",
       "      <td>4.477720</td>\n",
       "      <td>0.0</td>\n",
       "    </tr>\n",
       "    <tr>\n",
       "      <th>2019-09-19 00:00:00-04:00</th>\n",
       "      <td>4.402089</td>\n",
       "      <td>0.0</td>\n",
       "    </tr>\n",
       "  </tbody>\n",
       "</table>\n",
       "</div>"
      ],
      "text/plain": [
       "                              Close  Stock Splits\n",
       "Date                                             \n",
       "2019-09-13 00:00:00-04:00  4.526484           0.0\n",
       "2019-09-16 00:00:00-04:00  4.483444           0.0\n",
       "2019-09-17 00:00:00-04:00  4.504839           0.0\n",
       "2019-09-18 00:00:00-04:00  4.477720           0.0\n",
       "2019-09-19 00:00:00-04:00  4.402089           0.0"
      ]
     },
     "execution_count": 35,
     "metadata": {},
     "output_type": "execute_result"
    }
   ],
   "source": [
    "# Were there any splits that may have impacted the stock's price?\n",
    "close_5y = nvda_set_hist.loc[:,['Close','Stock Splits']]\n",
    "close_5y.head()"
   ]
  },
  {
   "cell_type": "markdown",
   "metadata": {},
   "source": [
    "During the 5-year period 2019-2024 there were splits on 2021-07-20 (1:4) and 2024-06-10 (1:10)."
   ]
  },
  {
   "cell_type": "code",
   "execution_count": 36,
   "metadata": {},
   "outputs": [
    {
     "data": {
      "text/html": [
       "<div>\n",
       "<style scoped>\n",
       "    .dataframe tbody tr th:only-of-type {\n",
       "        vertical-align: middle;\n",
       "    }\n",
       "\n",
       "    .dataframe tbody tr th {\n",
       "        vertical-align: top;\n",
       "    }\n",
       "\n",
       "    .dataframe thead th {\n",
       "        text-align: right;\n",
       "    }\n",
       "</style>\n",
       "<table border=\"1\" class=\"dataframe\">\n",
       "  <thead>\n",
       "    <tr style=\"text-align: right;\">\n",
       "      <th></th>\n",
       "      <th>Close</th>\n",
       "      <th>Stock Splits</th>\n",
       "    </tr>\n",
       "    <tr>\n",
       "      <th>Date</th>\n",
       "      <th></th>\n",
       "      <th></th>\n",
       "    </tr>\n",
       "  </thead>\n",
       "  <tbody>\n",
       "    <tr>\n",
       "      <th>2021-07-20 00:00:00-04:00</th>\n",
       "      <td>18.576828</td>\n",
       "      <td>4.0</td>\n",
       "    </tr>\n",
       "    <tr>\n",
       "      <th>2024-06-10 00:00:00-04:00</th>\n",
       "      <td>121.769585</td>\n",
       "      <td>10.0</td>\n",
       "    </tr>\n",
       "  </tbody>\n",
       "</table>\n",
       "</div>"
      ],
      "text/plain": [
       "                                Close  Stock Splits\n",
       "Date                                               \n",
       "2021-07-20 00:00:00-04:00   18.576828           4.0\n",
       "2024-06-10 00:00:00-04:00  121.769585          10.0"
      ]
     },
     "execution_count": 36,
     "metadata": {},
     "output_type": "execute_result"
    }
   ],
   "source": [
    "# Split dates and ratios\n",
    "close_5y[close_5y['Stock Splits'] != 0]"
   ]
  },
  {
   "cell_type": "markdown",
   "metadata": {},
   "source": [
    "As it can be seen below, the stock's price doesn't have any significant difference before and after each split. Therefore I won't adjust them."
   ]
  },
  {
   "cell_type": "code",
   "execution_count": 37,
   "metadata": {},
   "outputs": [
    {
     "name": "stdout",
     "output_type": "stream",
     "text": [
      "Stock split from 2021: \n",
      "                                Close  Stock Splits\n",
      "Date                                              \n",
      "2021-07-16 00:00:00-04:00  18.126678           0.0\n",
      "2021-07-19 00:00:00-04:00  18.744261           0.0\n",
      "2021-07-20 00:00:00-04:00  18.576828           4.0\n",
      "2021-07-21 00:00:00-04:00  19.373316           0.0\n",
      "2021-07-22 00:00:00-04:00  19.556971           0.0 \n",
      "\n",
      "Stock split from 2024: \n",
      "                                 Close  Stock Splits\n",
      "Date                                               \n",
      "2024-06-06 00:00:00-04:00  120.977707           0.0\n",
      "2024-06-07 00:00:00-04:00  120.867737           0.0\n",
      "2024-06-10 00:00:00-04:00  121.769585          10.0\n",
      "2024-06-11 00:00:00-04:00  120.899658           0.0\n",
      "2024-06-12 00:00:00-04:00  125.189285           0.0\n"
     ]
    }
   ],
   "source": [
    "split_2021 = (close_5y.index <= '2021-07-22') & (close_5y.index >= '2021-07-16')\n",
    "split_2024 = (close_5y.index <= '2024-06-12') & (close_5y.index >= '2024-06-06')\n",
    "\n",
    "print(f\"Stock split from 2021: \\n {close_5y.loc[split_2021,['Close','Stock Splits']]} \\n\")\n",
    "print(f\"Stock split from 2024: \\n {close_5y.loc[split_2024,['Close','Stock Splits']]}\")"
   ]
  },
  {
   "cell_type": "markdown",
   "metadata": {},
   "source": [
    "## <ins>**Exponential Moving Average (EMA) Calcs**:</ins>\n",
    "    EMA(t) = [Price(t) - EMA(t-1)] * 2 / (period + 1) + EMA(t-1)"
   ]
  },
  {
   "cell_type": "code",
   "execution_count": 38,
   "metadata": {},
   "outputs": [
    {
     "data": {
      "text/html": [
       "<div>\n",
       "<style scoped>\n",
       "    .dataframe tbody tr th:only-of-type {\n",
       "        vertical-align: middle;\n",
       "    }\n",
       "\n",
       "    .dataframe tbody tr th {\n",
       "        vertical-align: top;\n",
       "    }\n",
       "\n",
       "    .dataframe thead th {\n",
       "        text-align: right;\n",
       "    }\n",
       "</style>\n",
       "<table border=\"1\" class=\"dataframe\">\n",
       "  <thead>\n",
       "    <tr style=\"text-align: right;\">\n",
       "      <th></th>\n",
       "      <th>Close</th>\n",
       "      <th>Stock Splits</th>\n",
       "      <th>EMA_12d</th>\n",
       "      <th>EMA_26d</th>\n",
       "      <th>EMA_50d</th>\n",
       "      <th>EMA_100d</th>\n",
       "    </tr>\n",
       "    <tr>\n",
       "      <th>Date</th>\n",
       "      <th></th>\n",
       "      <th></th>\n",
       "      <th></th>\n",
       "      <th></th>\n",
       "      <th></th>\n",
       "      <th></th>\n",
       "    </tr>\n",
       "  </thead>\n",
       "  <tbody>\n",
       "    <tr>\n",
       "      <th>2024-09-13 00:00:00-04:00</th>\n",
       "      <td>119.070000</td>\n",
       "      <td>0.0</td>\n",
       "      <td>114.721213</td>\n",
       "      <td>115.785642</td>\n",
       "      <td>115.650576</td>\n",
       "      <td>109.723312</td>\n",
       "    </tr>\n",
       "    <tr>\n",
       "      <th>2024-09-12 00:00:00-04:00</th>\n",
       "      <td>119.139999</td>\n",
       "      <td>0.0</td>\n",
       "      <td>113.930525</td>\n",
       "      <td>115.522894</td>\n",
       "      <td>115.511007</td>\n",
       "      <td>109.534490</td>\n",
       "    </tr>\n",
       "    <tr>\n",
       "      <th>2024-09-11 00:00:00-04:00</th>\n",
       "      <td>116.900002</td>\n",
       "      <td>0.0</td>\n",
       "      <td>112.983348</td>\n",
       "      <td>115.233525</td>\n",
       "      <td>115.362885</td>\n",
       "      <td>109.340440</td>\n",
       "    </tr>\n",
       "    <tr>\n",
       "      <th>2024-09-10 00:00:00-04:00</th>\n",
       "      <td>108.090752</td>\n",
       "      <td>0.0</td>\n",
       "      <td>112.271229</td>\n",
       "      <td>115.100207</td>\n",
       "      <td>115.300146</td>\n",
       "      <td>109.187721</td>\n",
       "    </tr>\n",
       "    <tr>\n",
       "      <th>2024-09-09 00:00:00-04:00</th>\n",
       "      <td>106.460892</td>\n",
       "      <td>0.0</td>\n",
       "      <td>113.031316</td>\n",
       "      <td>115.660964</td>\n",
       "      <td>115.594407</td>\n",
       "      <td>109.209882</td>\n",
       "    </tr>\n",
       "    <tr>\n",
       "      <th>...</th>\n",
       "      <td>...</td>\n",
       "      <td>...</td>\n",
       "      <td>...</td>\n",
       "      <td>...</td>\n",
       "      <td>...</td>\n",
       "      <td>...</td>\n",
       "    </tr>\n",
       "    <tr>\n",
       "      <th>2019-09-19 00:00:00-04:00</th>\n",
       "      <td>4.402089</td>\n",
       "      <td>0.0</td>\n",
       "      <td>4.494602</td>\n",
       "      <td>4.510019</td>\n",
       "      <td>4.517488</td>\n",
       "      <td>4.521859</td>\n",
       "    </tr>\n",
       "    <tr>\n",
       "      <th>2019-09-18 00:00:00-04:00</th>\n",
       "      <td>4.477720</td>\n",
       "      <td>0.0</td>\n",
       "      <td>4.511423</td>\n",
       "      <td>4.518654</td>\n",
       "      <td>4.522198</td>\n",
       "      <td>4.524279</td>\n",
       "    </tr>\n",
       "    <tr>\n",
       "      <th>2019-09-17 00:00:00-04:00</th>\n",
       "      <td>4.504839</td>\n",
       "      <td>0.0</td>\n",
       "      <td>4.517551</td>\n",
       "      <td>4.521928</td>\n",
       "      <td>4.524013</td>\n",
       "      <td>4.525220</td>\n",
       "    </tr>\n",
       "    <tr>\n",
       "      <th>2019-09-16 00:00:00-04:00</th>\n",
       "      <td>4.483444</td>\n",
       "      <td>0.0</td>\n",
       "      <td>4.519862</td>\n",
       "      <td>4.523295</td>\n",
       "      <td>4.524796</td>\n",
       "      <td>4.525631</td>\n",
       "    </tr>\n",
       "    <tr>\n",
       "      <th>2019-09-13 00:00:00-04:00</th>\n",
       "      <td>4.526484</td>\n",
       "      <td>0.0</td>\n",
       "      <td>4.526484</td>\n",
       "      <td>4.526484</td>\n",
       "      <td>4.526484</td>\n",
       "      <td>4.526484</td>\n",
       "    </tr>\n",
       "  </tbody>\n",
       "</table>\n",
       "<p>1259 rows × 6 columns</p>\n",
       "</div>"
      ],
      "text/plain": [
       "                                Close  Stock Splits     EMA_12d     EMA_26d     EMA_50d    EMA_100d\n",
       "Date                                                                                               \n",
       "2024-09-13 00:00:00-04:00  119.070000           0.0  114.721213  115.785642  115.650576  109.723312\n",
       "2024-09-12 00:00:00-04:00  119.139999           0.0  113.930525  115.522894  115.511007  109.534490\n",
       "2024-09-11 00:00:00-04:00  116.900002           0.0  112.983348  115.233525  115.362885  109.340440\n",
       "2024-09-10 00:00:00-04:00  108.090752           0.0  112.271229  115.100207  115.300146  109.187721\n",
       "2024-09-09 00:00:00-04:00  106.460892           0.0  113.031316  115.660964  115.594407  109.209882\n",
       "...                               ...           ...         ...         ...         ...         ...\n",
       "2019-09-19 00:00:00-04:00    4.402089           0.0    4.494602    4.510019    4.517488    4.521859\n",
       "2019-09-18 00:00:00-04:00    4.477720           0.0    4.511423    4.518654    4.522198    4.524279\n",
       "2019-09-17 00:00:00-04:00    4.504839           0.0    4.517551    4.521928    4.524013    4.525220\n",
       "2019-09-16 00:00:00-04:00    4.483444           0.0    4.519862    4.523295    4.524796    4.525631\n",
       "2019-09-13 00:00:00-04:00    4.526484           0.0    4.526484    4.526484    4.526484    4.526484\n",
       "\n",
       "[1259 rows x 6 columns]"
      ]
     },
     "execution_count": 38,
     "metadata": {},
     "output_type": "execute_result"
    }
   ],
   "source": [
    "# EMA(t)\n",
    "\n",
    "close_5y['EMA_12d'] = close_5y['Close'].ewm(span=12,adjust=False).mean()\n",
    "close_5y['EMA_26d'] = close_5y['Close'].ewm(span=26,adjust=False).mean()\n",
    "close_5y['EMA_50d'] = close_5y['Close'].ewm(span=50,adjust=False).mean()\n",
    "close_5y['EMA_100d'] = close_5y['Close'].ewm(span=100,adjust=False).mean()\n",
    "\n",
    "close_5y.sort_index(ascending=False)#.iloc[:5,[0,2,3,4,5]]\n",
    "\n",
    "#close_5y.drop(['EMA_12d_26d','Signal_12d_26d'],axis=1)"
   ]
  },
  {
   "cell_type": "markdown",
   "metadata": {},
   "source": [
    "## <ins>**EMAs Comparison**</ins>"
   ]
  },
  {
   "cell_type": "markdown",
   "metadata": {},
   "source": [
    "### _12 vs 26 days_"
   ]
  },
  {
   "cell_type": "markdown",
   "metadata": {},
   "source": [
    "#### Table Creation"
   ]
  },
  {
   "cell_type": "code",
   "execution_count": 39,
   "metadata": {},
   "outputs": [
    {
     "data": {
      "text/html": [
       "<div>\n",
       "<style scoped>\n",
       "    .dataframe tbody tr th:only-of-type {\n",
       "        vertical-align: middle;\n",
       "    }\n",
       "\n",
       "    .dataframe tbody tr th {\n",
       "        vertical-align: top;\n",
       "    }\n",
       "\n",
       "    .dataframe thead th {\n",
       "        text-align: right;\n",
       "    }\n",
       "</style>\n",
       "<table border=\"1\" class=\"dataframe\">\n",
       "  <thead>\n",
       "    <tr style=\"text-align: right;\">\n",
       "      <th></th>\n",
       "      <th>Close</th>\n",
       "      <th>EMA_12d</th>\n",
       "      <th>EMA_26d</th>\n",
       "      <th>EMA_comp</th>\n",
       "    </tr>\n",
       "    <tr>\n",
       "      <th>Date</th>\n",
       "      <th></th>\n",
       "      <th></th>\n",
       "      <th></th>\n",
       "      <th></th>\n",
       "    </tr>\n",
       "  </thead>\n",
       "  <tbody>\n",
       "    <tr>\n",
       "      <th>2024-09-13 00:00:00-04:00</th>\n",
       "      <td>119.070000</td>\n",
       "      <td>114.721213</td>\n",
       "      <td>115.785642</td>\n",
       "      <td>-1.064429</td>\n",
       "    </tr>\n",
       "    <tr>\n",
       "      <th>2024-09-12 00:00:00-04:00</th>\n",
       "      <td>119.139999</td>\n",
       "      <td>113.930525</td>\n",
       "      <td>115.522894</td>\n",
       "      <td>-1.592369</td>\n",
       "    </tr>\n",
       "    <tr>\n",
       "      <th>2024-09-11 00:00:00-04:00</th>\n",
       "      <td>116.900002</td>\n",
       "      <td>112.983348</td>\n",
       "      <td>115.233525</td>\n",
       "      <td>-2.250178</td>\n",
       "    </tr>\n",
       "    <tr>\n",
       "      <th>2024-09-10 00:00:00-04:00</th>\n",
       "      <td>108.090752</td>\n",
       "      <td>112.271229</td>\n",
       "      <td>115.100207</td>\n",
       "      <td>-2.828978</td>\n",
       "    </tr>\n",
       "    <tr>\n",
       "      <th>2024-09-09 00:00:00-04:00</th>\n",
       "      <td>106.460892</td>\n",
       "      <td>113.031316</td>\n",
       "      <td>115.660964</td>\n",
       "      <td>-2.629648</td>\n",
       "    </tr>\n",
       "  </tbody>\n",
       "</table>\n",
       "</div>"
      ],
      "text/plain": [
       "                                Close     EMA_12d     EMA_26d  EMA_comp\n",
       "Date                                                                   \n",
       "2024-09-13 00:00:00-04:00  119.070000  114.721213  115.785642 -1.064429\n",
       "2024-09-12 00:00:00-04:00  119.139999  113.930525  115.522894 -1.592369\n",
       "2024-09-11 00:00:00-04:00  116.900002  112.983348  115.233525 -2.250178\n",
       "2024-09-10 00:00:00-04:00  108.090752  112.271229  115.100207 -2.828978\n",
       "2024-09-09 00:00:00-04:00  106.460892  113.031316  115.660964 -2.629648"
      ]
     },
     "execution_count": 39,
     "metadata": {},
     "output_type": "execute_result"
    }
   ],
   "source": [
    "cols_1 = ['Close','EMA_12d','EMA_26d']\n",
    "\n",
    "crossover_12d_26d = close_5y.loc[:,cols_1]\n",
    "\n",
    "crossover_12d_26d.loc[:,'EMA_comp'] = crossover_12d_26d.loc[:,'EMA_12d'] - crossover_12d_26d.loc[:,'EMA_26d']\n",
    "\n",
    "crossover_sorted = crossover_12d_26d.sort_index(ascending=False)\n",
    "crossover_sorted.head()"
   ]
  },
  {
   "cell_type": "markdown",
   "metadata": {},
   "source": [
    "#### Line Chart with Closing Price and EMAs"
   ]
  },
  {
   "cell_type": "code",
   "execution_count": 40,
   "metadata": {},
   "outputs": [
    {
     "name": "stdout",
     "output_type": "stream",
     "text": [
      "                          stock_info       value\n",
      "Date                                            \n",
      "2024-09-13 00:00:00-04:00      Close  119.070000\n",
      "2024-09-13 00:00:00-04:00    EMA_12d  114.721213\n",
      "2024-09-13 00:00:00-04:00    EMA_26d  115.785642\n"
     ]
    },
    {
     "data": {
      "image/png": "[encoded data removed]",
      "text/plain": [
       "<Figure size 624.875x500 with 1 Axes>"
      ]
     },
     "metadata": {},
     "output_type": "display_data"
    }
   ],
   "source": [
    "# Parsing for line chart\n",
    "EMA_melt_1 = crossover_sorted.reset_index().melt(id_vars='Date',\n",
    "                                                value_vars=['Close','EMA_12d','EMA_26d'],\n",
    "                                                var_name='stock_info',\n",
    "                                                value_name='value').set_index('Date').sort_index(ascending=False)\n",
    "print(EMA_melt_1.head(3))\n",
    "\n",
    "# Last months chart\n",
    "long_mask_1 = (EMA_melt_1.index >= '2024-04-01')\n",
    "long_EMA_comp_1 = EMA_melt_1.loc[long_mask_1]\n",
    "\n",
    "sns.color_palette('colorblind',3)\n",
    "\n",
    "sns.set_context('notebook')\n",
    "\n",
    "sns.relplot(kind='line',\n",
    "            data=long_EMA_comp_1,\n",
    "            x=long_EMA_comp_1.index,\n",
    "            y='value',\n",
    "            hue='stock_info',\n",
    "            hue_order=['Close','EMA_12d','EMA_26d'])\n",
    "\n",
    "plt.show()"
   ]
  },
  {
   "cell_type": "markdown",
   "metadata": {},
   "source": [
    "#### Finding the Intersections"
   ]
  },
  {
   "cell_type": "code",
   "execution_count": 41,
   "metadata": {},
   "outputs": [
    {
     "name": "stdout",
     "output_type": "stream",
     "text": [
      "Downward direction: \n",
      "                               Close   EMA_12d   EMA_26d  EMA_comp\n",
      "Date                                                             \n",
      "2020-03-10 00:00:00-04:00  6.504087  6.657891  6.629321   0.02857\n",
      "2020-03-11 00:00:00-04:00  6.140121  6.578234  6.593084  -0.01485 \n",
      "\n",
      "Upward direction: \n",
      "                               Close   EMA_12d   EMA_26d  EMA_comp\n",
      "Date                                                             \n",
      "2019-10-09 00:00:00-04:00  4.495882  4.443288  4.448249 -0.004961\n",
      "2019-10-10 00:00:00-04:00  4.553602  4.460260  4.456053  0.004206\n"
     ]
    }
   ],
   "source": [
    "mask_down_1 = (crossover_12d_26d['EMA_comp'].shift(-1) < 0) & (crossover_12d_26d['EMA_comp'] > 0).shift(1)\n",
    "mask_up_1 = (crossover_12d_26d['EMA_comp'].shift(-1) > 0) & (crossover_12d_26d['EMA_comp'] < 0).shift(1)\n",
    "\n",
    "print(f'Downward direction: \\n {crossover_12d_26d.loc[mask_down_1].head(2)} \\n')\n",
    "print(f'Upward direction: \\n {crossover_12d_26d.loc[mask_up_1].head(2)}')"
   ]
  },
  {
   "cell_type": "markdown",
   "metadata": {},
   "source": [
    "_Each crossover will be marked using the following logic:_\n",
    "- 'Sell' signal for the instance in which the 12-day-EMA crosses the 26-day-EMA downwards.\n",
    "- 'Buy' signal for the instance in which the 12-day-EMA crosses the 26-day-EMA upwards."
   ]
  },
  {
   "cell_type": "code",
   "execution_count": 42,
   "metadata": {},
   "outputs": [
    {
     "name": "stdout",
     "output_type": "stream",
     "text": [
      "Downward direction: \n",
      "                                Close    EMA_12d    EMA_26d  EMA_comp Signal\n",
      "Date                                                                       \n",
      "2020-03-10 00:00:00-04:00   6.504087   6.657891   6.629321  0.028570    NaN\n",
      "2020-03-11 00:00:00-04:00   6.140121   6.578234   6.593084 -0.014850   Sell\n",
      "2020-10-29 00:00:00-04:00  12.988087  13.298976  13.279632  0.019344    NaN \n",
      "\n",
      "Upward direction: \n",
      "                               Close   EMA_12d   EMA_26d  EMA_comp Signal\n",
      "Date                                                                    \n",
      "2019-10-09 00:00:00-04:00  4.495882  4.443288  4.448249 -0.004961    NaN\n",
      "2019-10-10 00:00:00-04:00  4.553602  4.460260  4.456053  0.004206    Buy\n",
      "2020-04-03 00:00:00-04:00  6.076344  6.138244  6.145736 -0.007492    NaN\n"
     ]
    }
   ],
   "source": [
    "crossover_12d_26d.loc[(crossover_12d_26d['EMA_comp'].shift(1) > 0) & (crossover_12d_26d['EMA_comp'] < 0), 'Signal'] = 'Sell'\n",
    "crossover_12d_26d.loc[(crossover_12d_26d['EMA_comp'].shift(1) < 0) & (crossover_12d_26d['EMA_comp'] > 0), 'Signal'] = 'Buy'\n",
    "\n",
    "pd.set_option('display.max_columns', None)\n",
    "pd.set_option('display.width', 1000)  \n",
    "\n",
    "print(f'Downward direction: \\n {crossover_12d_26d[mask_down_1].head(3)} \\n')\n",
    "print(f'Upward direction: \\n {crossover_12d_26d[mask_up_1].head(3)}')"
   ]
  },
  {
   "cell_type": "markdown",
   "metadata": {},
   "source": [
    "To properly work with these signals, I'll filter the crossover_12d_26d table to keep only those rows."
   ]
  },
  {
   "cell_type": "code",
   "execution_count": 43,
   "metadata": {},
   "outputs": [],
   "source": [
    "# row mask\n",
    "signal_only_1 = crossover_12d_26d['Signal'].isin(['Buy','Sell'])\n",
    "\n",
    "# Filtered table\n",
    "crossover_12d_26d_sig = crossover_12d_26d.loc[signal_only_1,['Close','Signal']]"
   ]
  },
  {
   "cell_type": "markdown",
   "metadata": {},
   "source": [
    "To compare the stock's holding to the EMA crossover strategy, the first thing you'd do is to buy said stock. Therefore, the first signal has to be 'Buy'. The last one could be to buy, but for simplicity I'll set it to a selling one. (I may change this in following updates)"
   ]
  },
  {
   "cell_type": "code",
   "execution_count": 44,
   "metadata": {},
   "outputs": [],
   "source": [
    "def first_last_signals(crossover_sig_df):\n",
    "    \n",
    "    # Check the first signal\n",
    "    first_signal = crossover_sig_df['Signal'].iloc[0] \n",
    "    \n",
    "    # Check the last signal\n",
    "    last_signal = crossover_sig_df['Signal'].iloc[-1] \n",
    "    \n",
    "    # If first signal is 'Sell', filter it out\n",
    "    if first_signal == 'Sell': \n",
    "        crossover_sig_df = crossover_sig_df.iloc[1:] \n",
    "        \n",
    "    # If last signal is 'Buy', filter it out    \n",
    "    if last_signal == 'Buy': \n",
    "        crossover_sig_df = crossover_sig_df.iloc[:-1]"
   ]
  },
  {
   "cell_type": "code",
   "execution_count": 45,
   "metadata": {},
   "outputs": [],
   "source": [
    "# Filtered crossover_sig_df\n",
    "first_last_signals(crossover_12d_26d_sig)"
   ]
  },
  {
   "cell_type": "markdown",
   "metadata": {},
   "source": [
    "#### Profit/Loss Ratios"
   ]
  },
  {
   "cell_type": "code",
   "execution_count": 46,
   "metadata": {},
   "outputs": [],
   "source": [
    "# EMAs crossover profit/loss ratio(t)\n",
    "crossover_12d_26d_sig['P&L_ratio_12d_26d'] = crossover_12d_26d_sig['Close'].shift(-1) / crossover_12d_26d_sig['Close']\n",
    "\n",
    "# Stock holding profit/loss total ratio\n",
    "crossover_12d_26d_rate = crossover_12d_26d_sig['P&L_ratio_12d_26d'].product()\n",
    "\n",
    "#print(crossover_12d_26d_sig)"
   ]
  },
  {
   "cell_type": "markdown",
   "metadata": {},
   "source": [
    "#### Total Profit/Loss"
   ]
  },
  {
   "cell_type": "code",
   "execution_count": 47,
   "metadata": {},
   "outputs": [],
   "source": [
    "# Stock's holding profit/loss\n",
    "Holding_earnings_1 = crossover_12d_26d_sig['Close'].iloc[-1] - crossover_12d_26d_sig['Close'].iloc[0]\n",
    "\n",
    "# Calculo ganancia/pérdida total en valor absoluto entre el 2019-10-10 y 2024-09-04\n",
    "crossover_12d_26d_earnings = crossover_12d_26d_sig['Close'].iloc[0] * (crossover_12d_26d_rate - 1)"
   ]
  },
  {
   "cell_type": "code",
   "execution_count": 48,
   "metadata": {},
   "outputs": [
    {
     "name": "stdout",
     "output_type": "stream",
     "text": [
      "\u001b[1m EMA crossover strategy earnings: \u001b[0m 101.6473 USD\n",
      "\u001b[1m Stock holding strategy earnings: \u001b[0m 101.6473 USD\n",
      "\u001b[1m Difference: \u001b[0m -2.8e-14\n"
     ]
    }
   ],
   "source": [
    "print(f'\\033[1m EMA crossover strategy earnings: \\033[0m {round(crossover_12d_26d_earnings,4)} USD')\n",
    "print(f'\\033[1m Stock holding strategy earnings: \\033[0m {round(Holding_earnings_1,4)} USD')\n",
    "print(f'\\033[1m Difference: \\033[0m {round(crossover_12d_26d_earnings - Holding_earnings_1,15)}')"
   ]
  },
  {
   "cell_type": "markdown",
   "metadata": {},
   "source": [
    "## Test"
   ]
  },
  {
   "cell_type": "markdown",
   "metadata": {},
   "source": [
    "### Table Creation"
   ]
  },
  {
   "cell_type": "code",
   "execution_count": 49,
   "metadata": {},
   "outputs": [
    {
     "data": {
      "text/html": [
       "<div>\n",
       "<style scoped>\n",
       "    .dataframe tbody tr th:only-of-type {\n",
       "        vertical-align: middle;\n",
       "    }\n",
       "\n",
       "    .dataframe tbody tr th {\n",
       "        vertical-align: top;\n",
       "    }\n",
       "\n",
       "    .dataframe thead th {\n",
       "        text-align: right;\n",
       "    }\n",
       "</style>\n",
       "<table border=\"1\" class=\"dataframe\">\n",
       "  <thead>\n",
       "    <tr style=\"text-align: right;\">\n",
       "      <th></th>\n",
       "      <th>Close</th>\n",
       "      <th>EMA_12d</th>\n",
       "      <th>EMA_50d</th>\n",
       "      <th>EMA_comp</th>\n",
       "    </tr>\n",
       "    <tr>\n",
       "      <th>Date</th>\n",
       "      <th></th>\n",
       "      <th></th>\n",
       "      <th></th>\n",
       "      <th></th>\n",
       "    </tr>\n",
       "  </thead>\n",
       "  <tbody>\n",
       "    <tr>\n",
       "      <th>2019-09-13 00:00:00-04:00</th>\n",
       "      <td>4.526484</td>\n",
       "      <td>4.526484</td>\n",
       "      <td>4.526484</td>\n",
       "      <td>0.000000</td>\n",
       "    </tr>\n",
       "    <tr>\n",
       "      <th>2019-09-16 00:00:00-04:00</th>\n",
       "      <td>4.483444</td>\n",
       "      <td>4.519862</td>\n",
       "      <td>4.524796</td>\n",
       "      <td>-0.004934</td>\n",
       "    </tr>\n",
       "    <tr>\n",
       "      <th>2019-09-17 00:00:00-04:00</th>\n",
       "      <td>4.504839</td>\n",
       "      <td>4.517551</td>\n",
       "      <td>4.524013</td>\n",
       "      <td>-0.006462</td>\n",
       "    </tr>\n",
       "    <tr>\n",
       "      <th>2019-09-18 00:00:00-04:00</th>\n",
       "      <td>4.477720</td>\n",
       "      <td>4.511423</td>\n",
       "      <td>4.522198</td>\n",
       "      <td>-0.010775</td>\n",
       "    </tr>\n",
       "    <tr>\n",
       "      <th>2019-09-19 00:00:00-04:00</th>\n",
       "      <td>4.402089</td>\n",
       "      <td>4.494602</td>\n",
       "      <td>4.517488</td>\n",
       "      <td>-0.022885</td>\n",
       "    </tr>\n",
       "  </tbody>\n",
       "</table>\n",
       "</div>"
      ],
      "text/plain": [
       "                              Close   EMA_12d   EMA_50d  EMA_comp\n",
       "Date                                                             \n",
       "2019-09-13 00:00:00-04:00  4.526484  4.526484  4.526484  0.000000\n",
       "2019-09-16 00:00:00-04:00  4.483444  4.519862  4.524796 -0.004934\n",
       "2019-09-17 00:00:00-04:00  4.504839  4.517551  4.524013 -0.006462\n",
       "2019-09-18 00:00:00-04:00  4.477720  4.511423  4.522198 -0.010775\n",
       "2019-09-19 00:00:00-04:00  4.402089  4.494602  4.517488 -0.022885"
      ]
     },
     "execution_count": 49,
     "metadata": {},
     "output_type": "execute_result"
    }
   ],
   "source": [
    "cols = ['Close','EMA_12d','EMA_50d']\n",
    "\n",
    "crossover_12d_50d = close_5y.loc[:,cols]\n",
    "crossover_12d_50d.loc[:,'EMA_comp'] = crossover_12d_50d.loc[:,'EMA_12d'] - crossover_12d_50d.loc[:,'EMA_50d']\n",
    "crossover_12d_50d.head()"
   ]
  }
 ],
 "metadata": {
  "kernelspec": {
   "display_name": "Python 3",
   "language": "python",
   "name": "python3"
  },
  "language_info": {
   "codemirror_mode": {
    "name": "ipython",
    "version": 3
   },
   "file_extension": ".py",
   "mimetype": "text/x-python",
   "name": "python",
   "nbconvert_exporter": "python",
   "pygments_lexer": "ipython3",
   "version": "3.11.5"
  }
 },
 "nbformat": 4,
 "nbformat_minor": 2
}

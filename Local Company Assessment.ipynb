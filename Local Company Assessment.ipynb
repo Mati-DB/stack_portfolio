{
 "cells": [
  {
   "cell_type": "markdown",
   "metadata": {},
   "source": [
    "# Data Wrangling Assessment\n",
    "As part of an assessment by a local company, I was tasked with transforming an SPSS database file into a more analysis-friendly format. As a side note, the data sample provided is available only in Spanish.\n",
    "\n",
    "---\n",
    "## Task Description\n",
    "\n",
    "We received the preliminary results of a survey [(database in SPSS format)](#Additional-Notes-for-Readers) and need to process the output from the platform to adapt it to the analysis requirements.\n",
    "\n",
    "The task consists of transforming the data to match the database structure presented below. This is the format used by our systems.\n",
    "\n",
    "| Response_ID\t| variable\t| valor |\n",
    "| --- | --- | --- |\n",
    "| 54239204\t| FF1\t| Persona Física |\n",
    "| 54239204\t| FF2\t| Si |\n",
    "| 54239204\t| FF3\t| Si |\n",
    "| 54239204\t| FF4\t| Servicios  Profesionales |\n",
    "| 54239204\t| FF5\t| ENTRE $ 600.001 Y $ 1.000.000 |\n",
    "| 54239204\t| … |\t… |\n",
    "| 54239204\t| A1\t| Banco.15 |\n",
    "| 54239204\t| A1\t| Banco.13 |\n",
    "| 54239204\t| A1\t| Banco.16 |\n",
    "| 54239204\t| … |\t… |\n",
    "\n",
    "- Each response is a row associated with the Response_ID and the corresponding variable. The dataset should contain three columns and as many rows as needed.\n",
    "- Multiple responses share the same variable value (refer to the file \"Cuestionario Ejercicio BRN 2023.docx\" for guidance). *--> Clarification for the reader: You can use the [SPSS database sample](#Additional-Notes-for-Readers) as guidance instead*\n",
    "\n",
    "The final file must be in .csv format.\n",
    "\n",
    "Additionally, include a brief explanation of the process followed to obtain the results.\n",
    "\n",
    "There are no restrictions on the tools used for this task.\n",
    "\n",
    "## Additional Notes for Readers:\n",
    "\n",
    "<ins>**SPSS database sample**</ins>:\n",
    "\n",
    "| responseID | FF2 | FF3 | FF4 | FF5_1 | FF7 | FF7_1 | FF7_2 | FF7_3 | FF7_4 | FF7_5 | FF7_6 | FF7_7 | FF7_8 | A2_1 | A2_2 | A3_1 | A3_2 | A9_1.Banco.1 | A9_2.Banco.2 | A9_3.Banco.3 | A9_4.Banco.4 | A9_5.Banco.5 | A9_6.Banco.6 | A9_7.Banco.7 | A9_9.Banco.9 | A9_10.Banco.10 | A9_13.Banco.13 | A9_15.Banco.15 | A9_16.Banco.16 | A9_17.Banco.17 | A9_20.Banco.20 | A9_24.Banco.24 | A9_25.Banco.25 | A9_29.Banco.29 | A9_42.Banco.42 | A9_71.Banco.71 | A9_84.Banco.84 | A9_74.Banco.74 | A9_44.Banco.44 | A9_90.Banco.90 | A9_91.Banco.91 | A10 | A13_1.Banco.1 | A13_2.Banco.2 | A13_3.Banco.3 | A13_4.Banco.4 | A13_5.Banco.5 | A13_6.Banco.6 | A13_7.Banco.7 | A13_9.Banco.9 | A13_10.Banco.10 | A13_13.Banco.13 | A13_15.Banco.15 | A13_16.Banco.16 | A13_17.Banco.17 | A13_20.Banco.20 | A13_24.Banco.24 | A13_25.Banco.25 | A13_29.Banco.29 | A13_42.Banco.42 | A13_71.Banco.71 | A13_84.Banco.84 | A13_74.Banco.74 | A13_44.Banco.44 | A13_90.Banco.90 | A13_91.Banco.91 |\t\t\t\t\t\t\t\t\t\t\t\t\t\t\t\t\t\t\t\t\t\t\t\t\t\t\t\t\t\t\t\t\t\t\t\t\t\t\t\t\t\t\t\t\t\t\t\t\t\t\t\t\t\t\t\t\t\t\t\t\t\t\t\t\t\t\n",
    "| --- | --- | --- | --- | --- | --- | --- | --- | --- | --- | --- | --- | --- | --- | --- | --- | --- | --- | --- | --- | --- | --- | --- | --- | --- | --- | --- | --- | --- | --- | --- | --- | --- | --- | --- | --- | --- | --- | --- | --- | --- | --- | --- | --- | --- | --- | --- | --- | --- | --- | --- | --- | --- | --- | --- | --- | --- | --- | --- | --- | --- | --- | --- | --- | --- | --- | --- |\t\t\t\t\t\t\t\t\t\t\t\t\t\t\t\t\t\t\t\t\t\t\t\t\t\t\t\t\t\t\t\t\t\t\t\t\t\t\t\t\t\t\t\t\t\t\t\t\t\t\t\t\t\t\t\t\t\t\t\t\t\t\t\t\t\t\n",
    "| 56020150 | SI | SI. Duenoo o Socio/ Gerente/ Contador | Servicios no Profesionales | ENTRE $ 600.001 Y $ 1.000.000 | AMBA | GBA SUR |  |  |  |  |  |  |  | Banco.90 | Banco.15 | NS/NC |  |  |  |  |  |  |  |  |  |  |  | Banco.15 |  |  |  |  |  |  |  |  |  |  |  | Banco.90 |  | Banco.15 |  |  |  |  |  |  |  |  |  |  | 8 |  |  |  |  |  |  |  |  |  |  |  | 10 |  |\t\t\t\t\t\t\t\t\t\t\t\t\t\t\t\t\t\t\t\t\t\t\t\t\t\t\t\t\t\t\t\t\t\t\t\t\t\t\t\t\t\t\t\t\t\t\t\t\t\t\t\t\t\t\t\t\t\t\t\t\t\t\t\t\t\t\n",
    "| 56024025 | SI | SI. Duenoo o Socio/ Gerente/ Contador | Servicios  Profesionales | ENTRE $ 600.001 Y $ 1.000.000 | AMBA | GBA NORTE |  |  |  |  |  |  |  | Banco.3 | Banco.2 | Banco.7 | Banco.1 |  | Banco.2 | Banco.3 |  |  |  |  |  |  | Banco.13 |  |  |  |  |  |  |  |  |  |  |  |  | Banco.90 |  | Banco.2 |  | 10 | 10 |  |  |  |  |  |  | 8 |  |  |  |  |  |  |  |  |  |  |  |  | 10 |  |\t\t\t\t\t\t\t\t\t\t\t\t\t\t\t\t\t\t\t\t\t\t\t\t\t\t\t\t\t\t\t\t\t\t\t\t\t\t\t\t\t\t\t\t\t\t\t\t\t\t\t\t\t\t\t\t\t\t\t\t\t\t\t\t\t\t\n",
    "| 54638665 | SI | SI. Duenoo o Socio/ Gerente/ Contador | Servicios  Profesionales | ENTRE $ 1.000.001 Y $ 2.000.000 | AMBA | CABA NORTE |  |  |  |  |  |  |  | NS/NC |  | NS/NC |  |  |  | Banco.3 |  |  |  | Banco.7 |  |  |  |  |  |  |  |  |  |  |  |  |  |  |  |  |  | Banco.3 |  |  | NS/NC |  |  |  | NS/NC |  |  |  |  |  |  |  |  |  |  |  |  |  |  |  |  |  |\t\n",
    "\n",
    "<ins>**variables**</ins>:\n",
    "\n",
    "- FF2: *For your business activity, do you work with any bank?*\n",
    "- FF3: *Are you the person ultimately responsible for the relationship with banks, that is, the decision-maker, in your company or business?*\n",
    "- FF4: *From the following list, how is the activity you perform registered?*\n",
    "- FF5_1: *What is the annual turnover range that corresponds to your activity/business?*\n",
    "- FF7: *In what city is it located? Answers 1 through 8 represent different locations*\n",
    "- A2: *Which do you think are the top 2 banks overall, whether you've worked with them or not?*\n",
    "- A3: *Which banks do you think are the two worst overall, whether you've worked with them or not?*\n",
    "- A9: *For both your activity/business and your personal operations, which bank(s) are you a client of?*\n",
    "- A10: *Of all the banks you mentioned, which is the primary bank for your activity/business?*\n",
    "- A13: *On a scale of 1 to 10, where 1 is Definitely would not recommend and 10 is Definitely would recommend, please indicate to what extent you would recommend XX*, where XX stands for each bank previously named by the interviewee"
   ]
  },
  {
   "cell_type": "markdown",
   "metadata": {},
   "source": [
    "## Solution"
   ]
  },
  {
   "cell_type": "markdown",
   "metadata": {},
   "source": [
    "As a first step I imported pandas so I could start editing the initial file"
   ]
  },
  {
   "cell_type": "code",
   "execution_count": 1,
   "metadata": {},
   "outputs": [
    {
     "data": {
      "application/vnd.microsoft.datawrangler.viewer.v0+json": {
       "columns": [
        {
         "name": "index",
         "rawType": "int64",
         "type": "integer"
        },
        {
         "name": "responseID",
         "rawType": "int64",
         "type": "integer"
        },
        {
         "name": "FF2",
         "rawType": "object",
         "type": "string"
        },
        {
         "name": "FF3",
         "rawType": "object",
         "type": "string"
        },
        {
         "name": "FF4",
         "rawType": "object",
         "type": "string"
        },
        {
         "name": "FF5_1",
         "rawType": "object",
         "type": "string"
        },
        {
         "name": "FF7",
         "rawType": "object",
         "type": "string"
        },
        {
         "name": "FF7_1",
         "rawType": "object",
         "type": "unknown"
        },
        {
         "name": "FF7_2",
         "rawType": "object",
         "type": "unknown"
        },
        {
         "name": "FF7_3",
         "rawType": "object",
         "type": "unknown"
        },
        {
         "name": "FF7_4",
         "rawType": "float64",
         "type": "float"
        },
        {
         "name": "FF7_5",
         "rawType": "object",
         "type": "unknown"
        },
        {
         "name": "FF7_6",
         "rawType": "float64",
         "type": "float"
        },
        {
         "name": "FF7_7",
         "rawType": "object",
         "type": "unknown"
        },
        {
         "name": "FF7_8",
         "rawType": "float64",
         "type": "float"
        },
        {
         "name": "A2_1",
         "rawType": "object",
         "type": "string"
        },
        {
         "name": "A2_2",
         "rawType": "object",
         "type": "unknown"
        },
        {
         "name": "A3_1",
         "rawType": "object",
         "type": "string"
        },
        {
         "name": "A3_2",
         "rawType": "object",
         "type": "unknown"
        },
        {
         "name": "A9_1.Banco.1",
         "rawType": "object",
         "type": "unknown"
        },
        {
         "name": "A9_2.Banco.2",
         "rawType": "object",
         "type": "unknown"
        },
        {
         "name": "A9_3.Banco.3",
         "rawType": "object",
         "type": "unknown"
        },
        {
         "name": "A9_4.Banco.4",
         "rawType": "object",
         "type": "unknown"
        },
        {
         "name": "A9_5.Banco.5",
         "rawType": "object",
         "type": "unknown"
        },
        {
         "name": "A9_6.Banco.6",
         "rawType": "object",
         "type": "unknown"
        },
        {
         "name": "A9_7.Banco.7",
         "rawType": "object",
         "type": "unknown"
        },
        {
         "name": "A9_9.Banco.9",
         "rawType": "object",
         "type": "unknown"
        },
        {
         "name": "A9_10.Banco.10",
         "rawType": "object",
         "type": "unknown"
        },
        {
         "name": "A9_13.Banco.13",
         "rawType": "object",
         "type": "unknown"
        },
        {
         "name": "A9_15.Banco.15",
         "rawType": "object",
         "type": "unknown"
        },
        {
         "name": "A9_16.Banco.16",
         "rawType": "object",
         "type": "unknown"
        },
        {
         "name": "A9_17.Banco.17",
         "rawType": "object",
         "type": "unknown"
        },
        {
         "name": "A9_20.Banco.20",
         "rawType": "object",
         "type": "unknown"
        },
        {
         "name": "A9_24.Banco.24",
         "rawType": "object",
         "type": "unknown"
        },
        {
         "name": "A9_25.Banco.25",
         "rawType": "float64",
         "type": "float"
        },
        {
         "name": "A9_29.Banco.29",
         "rawType": "object",
         "type": "unknown"
        },
        {
         "name": "A9_42.Banco.42",
         "rawType": "float64",
         "type": "float"
        },
        {
         "name": "A9_71.Banco.71",
         "rawType": "float64",
         "type": "float"
        },
        {
         "name": "A9_84.Banco.84",
         "rawType": "float64",
         "type": "float"
        },
        {
         "name": "A9_74.Banco.74",
         "rawType": "float64",
         "type": "float"
        },
        {
         "name": "A9_44.Banco.44",
         "rawType": "float64",
         "type": "float"
        },
        {
         "name": "A9_90.Banco.90",
         "rawType": "object",
         "type": "unknown"
        },
        {
         "name": "A9_91.Banco.91",
         "rawType": "float64",
         "type": "float"
        },
        {
         "name": "A10",
         "rawType": "object",
         "type": "string"
        },
        {
         "name": "A13_1.Banco.1",
         "rawType": "object",
         "type": "unknown"
        },
        {
         "name": "A13_2.Banco.2",
         "rawType": "object",
         "type": "unknown"
        },
        {
         "name": "A13_3.Banco.3",
         "rawType": "object",
         "type": "unknown"
        },
        {
         "name": "A13_4.Banco.4",
         "rawType": "float64",
         "type": "float"
        },
        {
         "name": "A13_5.Banco.5",
         "rawType": "float64",
         "type": "float"
        },
        {
         "name": "A13_6.Banco.6",
         "rawType": "object",
         "type": "unknown"
        },
        {
         "name": "A13_7.Banco.7",
         "rawType": "object",
         "type": "unknown"
        },
        {
         "name": "A13_9.Banco.9",
         "rawType": "object",
         "type": "unknown"
        },
        {
         "name": "A13_10.Banco.10",
         "rawType": "float64",
         "type": "float"
        },
        {
         "name": "A13_13.Banco.13",
         "rawType": "object",
         "type": "unknown"
        },
        {
         "name": "A13_15.Banco.15",
         "rawType": "float64",
         "type": "float"
        },
        {
         "name": "A13_16.Banco.16",
         "rawType": "float64",
         "type": "float"
        },
        {
         "name": "A13_17.Banco.17",
         "rawType": "object",
         "type": "unknown"
        },
        {
         "name": "A13_20.Banco.20",
         "rawType": "float64",
         "type": "float"
        },
        {
         "name": "A13_24.Banco.24",
         "rawType": "float64",
         "type": "float"
        },
        {
         "name": "A13_25.Banco.25",
         "rawType": "float64",
         "type": "float"
        },
        {
         "name": "A13_29.Banco.29",
         "rawType": "float64",
         "type": "float"
        },
        {
         "name": "A13_42.Banco.42",
         "rawType": "float64",
         "type": "float"
        },
        {
         "name": "A13_71.Banco.71",
         "rawType": "float64",
         "type": "float"
        },
        {
         "name": "A13_84.Banco.84",
         "rawType": "float64",
         "type": "float"
        },
        {
         "name": "A13_74.Banco.74",
         "rawType": "float64",
         "type": "float"
        },
        {
         "name": "A13_44.Banco.44",
         "rawType": "float64",
         "type": "float"
        },
        {
         "name": "A13_90.Banco.90",
         "rawType": "float64",
         "type": "float"
        },
        {
         "name": "A13_91.Banco.91",
         "rawType": "float64",
         "type": "float"
        }
       ],
       "conversionMethod": "pd.DataFrame",
       "ref": "bb5d6a97-181c-4ce2-90ff-a8f672585c99",
       "rows": [
        [
         "0",
         "56020150",
         "SI",
         "SI. Duenoo o Socio/ Gerente/ Contador",
         "Servicios no Profesionales",
         "ENTRE $ 600.001 Y $ 1.000.000",
         "AMBA",
         "GBA SUR",
         null,
         null,
         null,
         null,
         null,
         null,
         null,
         "Banco.90",
         "Banco.15",
         "NS/NC",
         null,
         null,
         null,
         null,
         null,
         null,
         null,
         null,
         null,
         null,
         null,
         "Banco.15",
         null,
         null,
         null,
         null,
         null,
         null,
         null,
         null,
         null,
         null,
         null,
         "Banco.90",
         null,
         "Banco.15",
         null,
         null,
         null,
         null,
         null,
         null,
         null,
         null,
         null,
         null,
         "8.0",
         null,
         null,
         null,
         null,
         null,
         null,
         null,
         null,
         null,
         null,
         null,
         "10.0",
         null
        ],
        [
         "1",
         "56024025",
         "SI",
         "SI. Duenoo o Socio/ Gerente/ Contador",
         "Servicios  Profesionales",
         "ENTRE $ 600.001 Y $ 1.000.000",
         "AMBA",
         "GBA NORTE",
         null,
         null,
         null,
         null,
         null,
         null,
         null,
         "Banco.3",
         "Banco.2",
         "Banco.7",
         "Banco.1",
         null,
         "Banco.2",
         "Banco.3",
         null,
         null,
         null,
         null,
         null,
         null,
         "Banco.13",
         null,
         null,
         null,
         null,
         null,
         null,
         null,
         null,
         null,
         null,
         null,
         null,
         "Banco.90",
         null,
         "Banco.2",
         null,
         "10",
         "10",
         null,
         null,
         null,
         null,
         null,
         null,
         "8",
         null,
         null,
         null,
         null,
         null,
         null,
         null,
         null,
         null,
         null,
         null,
         null,
         "10.0",
         null
        ],
        [
         "2",
         "54638665",
         "SI",
         "SI. Duenoo o Socio/ Gerente/ Contador",
         "Servicios  Profesionales",
         "ENTRE $ 1.000.001 Y $ 2.000.000",
         "AMBA",
         "CABA NORTE",
         null,
         null,
         null,
         null,
         null,
         null,
         null,
         "NS/NC",
         null,
         "NS/NC",
         null,
         null,
         null,
         "Banco.3",
         null,
         null,
         null,
         "Banco.7",
         null,
         null,
         null,
         null,
         null,
         null,
         null,
         null,
         null,
         null,
         null,
         null,
         null,
         null,
         null,
         null,
         null,
         "Banco.3",
         null,
         null,
         "NS/NC",
         null,
         null,
         null,
         "NS/NC",
         null,
         null,
         null,
         null,
         null,
         null,
         null,
         null,
         null,
         null,
         null,
         null,
         null,
         null,
         null,
         null,
         null
        ],
        [
         "3",
         "56022997",
         "SI",
         "SI. Duenoo o Socio/ Gerente/ Contador",
         "Servicios  Profesionales",
         "ENTRE $ 2.000.001 Y $ 3.000.000",
         "AMBA",
         "GBA SUR",
         null,
         null,
         null,
         null,
         null,
         null,
         null,
         "Banco.3",
         "Banco.7",
         "Banco.90",
         "Banco.2",
         "Banco.1",
         null,
         "Banco.3",
         null,
         null,
         null,
         null,
         null,
         null,
         null,
         null,
         null,
         null,
         null,
         null,
         null,
         null,
         null,
         null,
         null,
         null,
         null,
         null,
         null,
         "Banco.1",
         "4",
         null,
         "10",
         null,
         null,
         null,
         null,
         null,
         null,
         null,
         null,
         null,
         null,
         null,
         null,
         null,
         null,
         null,
         null,
         null,
         null,
         null,
         null,
         null
        ],
        [
         "4",
         "54630677",
         "SI",
         "SI. Duenoo o Socio/ Gerente/ Contador",
         "Servicios no Profesionales",
         "ENTRE $ 3.000.001 Y $ 5.000.000",
         "Cordoba",
         null,
         null,
         null,
         null,
         "Cordoba (Cap)",
         null,
         null,
         null,
         "Banco.9",
         "Banco.29",
         "Banco.7",
         "Banco.10",
         "Banco.1",
         null,
         null,
         null,
         null,
         null,
         null,
         null,
         null,
         null,
         null,
         null,
         null,
         null,
         null,
         null,
         "Banco.29",
         null,
         null,
         null,
         null,
         null,
         null,
         null,
         "Banco.29",
         "7",
         null,
         null,
         null,
         null,
         null,
         null,
         null,
         null,
         null,
         null,
         null,
         null,
         null,
         null,
         null,
         "7.0",
         null,
         null,
         null,
         null,
         null,
         null,
         null
        ]
       ],
       "shape": {
        "columns": 67,
        "rows": 5
       }
      },
      "text/html": [
       "<div>\n",
       "<style scoped>\n",
       "    .dataframe tbody tr th:only-of-type {\n",
       "        vertical-align: middle;\n",
       "    }\n",
       "\n",
       "    .dataframe tbody tr th {\n",
       "        vertical-align: top;\n",
       "    }\n",
       "\n",
       "    .dataframe thead th {\n",
       "        text-align: right;\n",
       "    }\n",
       "</style>\n",
       "<table border=\"1\" class=\"dataframe\">\n",
       "  <thead>\n",
       "    <tr style=\"text-align: right;\">\n",
       "      <th></th>\n",
       "      <th>responseID</th>\n",
       "      <th>FF2</th>\n",
       "      <th>FF3</th>\n",
       "      <th>FF4</th>\n",
       "      <th>FF5_1</th>\n",
       "      <th>FF7</th>\n",
       "      <th>FF7_1</th>\n",
       "      <th>FF7_2</th>\n",
       "      <th>FF7_3</th>\n",
       "      <th>FF7_4</th>\n",
       "      <th>...</th>\n",
       "      <th>A13_24.Banco.24</th>\n",
       "      <th>A13_25.Banco.25</th>\n",
       "      <th>A13_29.Banco.29</th>\n",
       "      <th>A13_42.Banco.42</th>\n",
       "      <th>A13_71.Banco.71</th>\n",
       "      <th>A13_84.Banco.84</th>\n",
       "      <th>A13_74.Banco.74</th>\n",
       "      <th>A13_44.Banco.44</th>\n",
       "      <th>A13_90.Banco.90</th>\n",
       "      <th>A13_91.Banco.91</th>\n",
       "    </tr>\n",
       "  </thead>\n",
       "  <tbody>\n",
       "    <tr>\n",
       "      <th>0</th>\n",
       "      <td>56020150</td>\n",
       "      <td>SI</td>\n",
       "      <td>SI. Duenoo o Socio/ Gerente/ Contador</td>\n",
       "      <td>Servicios no Profesionales</td>\n",
       "      <td>ENTRE $ 600.001 Y $ 1.000.000</td>\n",
       "      <td>AMBA</td>\n",
       "      <td>GBA SUR</td>\n",
       "      <td>NaN</td>\n",
       "      <td>NaN</td>\n",
       "      <td>NaN</td>\n",
       "      <td>...</td>\n",
       "      <td>NaN</td>\n",
       "      <td>NaN</td>\n",
       "      <td>NaN</td>\n",
       "      <td>NaN</td>\n",
       "      <td>NaN</td>\n",
       "      <td>NaN</td>\n",
       "      <td>NaN</td>\n",
       "      <td>NaN</td>\n",
       "      <td>10.0</td>\n",
       "      <td>NaN</td>\n",
       "    </tr>\n",
       "    <tr>\n",
       "      <th>1</th>\n",
       "      <td>56024025</td>\n",
       "      <td>SI</td>\n",
       "      <td>SI. Duenoo o Socio/ Gerente/ Contador</td>\n",
       "      <td>Servicios  Profesionales</td>\n",
       "      <td>ENTRE $ 600.001 Y $ 1.000.000</td>\n",
       "      <td>AMBA</td>\n",
       "      <td>GBA NORTE</td>\n",
       "      <td>NaN</td>\n",
       "      <td>NaN</td>\n",
       "      <td>NaN</td>\n",
       "      <td>...</td>\n",
       "      <td>NaN</td>\n",
       "      <td>NaN</td>\n",
       "      <td>NaN</td>\n",
       "      <td>NaN</td>\n",
       "      <td>NaN</td>\n",
       "      <td>NaN</td>\n",
       "      <td>NaN</td>\n",
       "      <td>NaN</td>\n",
       "      <td>10.0</td>\n",
       "      <td>NaN</td>\n",
       "    </tr>\n",
       "    <tr>\n",
       "      <th>2</th>\n",
       "      <td>54638665</td>\n",
       "      <td>SI</td>\n",
       "      <td>SI. Duenoo o Socio/ Gerente/ Contador</td>\n",
       "      <td>Servicios  Profesionales</td>\n",
       "      <td>ENTRE $ 1.000.001 Y $ 2.000.000</td>\n",
       "      <td>AMBA</td>\n",
       "      <td>CABA NORTE</td>\n",
       "      <td>NaN</td>\n",
       "      <td>NaN</td>\n",
       "      <td>NaN</td>\n",
       "      <td>...</td>\n",
       "      <td>NaN</td>\n",
       "      <td>NaN</td>\n",
       "      <td>NaN</td>\n",
       "      <td>NaN</td>\n",
       "      <td>NaN</td>\n",
       "      <td>NaN</td>\n",
       "      <td>NaN</td>\n",
       "      <td>NaN</td>\n",
       "      <td>NaN</td>\n",
       "      <td>NaN</td>\n",
       "    </tr>\n",
       "    <tr>\n",
       "      <th>3</th>\n",
       "      <td>56022997</td>\n",
       "      <td>SI</td>\n",
       "      <td>SI. Duenoo o Socio/ Gerente/ Contador</td>\n",
       "      <td>Servicios  Profesionales</td>\n",
       "      <td>ENTRE $ 2.000.001 Y $ 3.000.000</td>\n",
       "      <td>AMBA</td>\n",
       "      <td>GBA SUR</td>\n",
       "      <td>NaN</td>\n",
       "      <td>NaN</td>\n",
       "      <td>NaN</td>\n",
       "      <td>...</td>\n",
       "      <td>NaN</td>\n",
       "      <td>NaN</td>\n",
       "      <td>NaN</td>\n",
       "      <td>NaN</td>\n",
       "      <td>NaN</td>\n",
       "      <td>NaN</td>\n",
       "      <td>NaN</td>\n",
       "      <td>NaN</td>\n",
       "      <td>NaN</td>\n",
       "      <td>NaN</td>\n",
       "    </tr>\n",
       "    <tr>\n",
       "      <th>4</th>\n",
       "      <td>54630677</td>\n",
       "      <td>SI</td>\n",
       "      <td>SI. Duenoo o Socio/ Gerente/ Contador</td>\n",
       "      <td>Servicios no Profesionales</td>\n",
       "      <td>ENTRE $ 3.000.001 Y $ 5.000.000</td>\n",
       "      <td>Cordoba</td>\n",
       "      <td>NaN</td>\n",
       "      <td>NaN</td>\n",
       "      <td>NaN</td>\n",
       "      <td>NaN</td>\n",
       "      <td>...</td>\n",
       "      <td>NaN</td>\n",
       "      <td>NaN</td>\n",
       "      <td>7.0</td>\n",
       "      <td>NaN</td>\n",
       "      <td>NaN</td>\n",
       "      <td>NaN</td>\n",
       "      <td>NaN</td>\n",
       "      <td>NaN</td>\n",
       "      <td>NaN</td>\n",
       "      <td>NaN</td>\n",
       "    </tr>\n",
       "  </tbody>\n",
       "</table>\n",
       "<p>5 rows × 67 columns</p>\n",
       "</div>"
      ],
      "text/plain": [
       "   responseID FF2                                    FF3  \\\n",
       "0    56020150  SI  SI. Duenoo o Socio/ Gerente/ Contador   \n",
       "1    56024025  SI  SI. Duenoo o Socio/ Gerente/ Contador   \n",
       "2    54638665  SI  SI. Duenoo o Socio/ Gerente/ Contador   \n",
       "3    56022997  SI  SI. Duenoo o Socio/ Gerente/ Contador   \n",
       "4    54630677  SI  SI. Duenoo o Socio/ Gerente/ Contador   \n",
       "\n",
       "                          FF4                            FF5_1      FF7  \\\n",
       "0  Servicios no Profesionales    ENTRE $ 600.001 Y $ 1.000.000     AMBA   \n",
       "1    Servicios  Profesionales    ENTRE $ 600.001 Y $ 1.000.000     AMBA   \n",
       "2    Servicios  Profesionales  ENTRE $ 1.000.001 Y $ 2.000.000     AMBA   \n",
       "3    Servicios  Profesionales  ENTRE $ 2.000.001 Y $ 3.000.000     AMBA   \n",
       "4  Servicios no Profesionales  ENTRE $ 3.000.001 Y $ 5.000.000  Cordoba   \n",
       "\n",
       "        FF7_1 FF7_2 FF7_3  FF7_4  ... A13_24.Banco.24  A13_25.Banco.25  \\\n",
       "0     GBA SUR   NaN   NaN    NaN  ...             NaN              NaN   \n",
       "1   GBA NORTE   NaN   NaN    NaN  ...             NaN              NaN   \n",
       "2  CABA NORTE   NaN   NaN    NaN  ...             NaN              NaN   \n",
       "3     GBA SUR   NaN   NaN    NaN  ...             NaN              NaN   \n",
       "4         NaN   NaN   NaN    NaN  ...             NaN              NaN   \n",
       "\n",
       "  A13_29.Banco.29  A13_42.Banco.42 A13_71.Banco.71 A13_84.Banco.84  \\\n",
       "0             NaN              NaN             NaN             NaN   \n",
       "1             NaN              NaN             NaN             NaN   \n",
       "2             NaN              NaN             NaN             NaN   \n",
       "3             NaN              NaN             NaN             NaN   \n",
       "4             7.0              NaN             NaN             NaN   \n",
       "\n",
       "  A13_74.Banco.74 A13_44.Banco.44 A13_90.Banco.90 A13_91.Banco.91  \n",
       "0             NaN             NaN            10.0             NaN  \n",
       "1             NaN             NaN            10.0             NaN  \n",
       "2             NaN             NaN             NaN             NaN  \n",
       "3             NaN             NaN             NaN             NaN  \n",
       "4             NaN             NaN             NaN             NaN  \n",
       "\n",
       "[5 rows x 67 columns]"
      ]
     },
     "execution_count": 1,
     "metadata": {},
     "output_type": "execute_result"
    }
   ],
   "source": [
    "import pandas as pd\n",
    "\n",
    "df = pd.read_excel(r'C:\\Users\\admin\\Downloads\\Python Projects\\Projects\\Brain Networks - Assessment\\Base Ejercicio BRN 2023.xlsx')\n",
    "df.head()"
   ]
  },
  {
   "cell_type": "markdown",
   "metadata": {},
   "source": [
    "### Initial pivoting"
   ]
  },
  {
   "cell_type": "code",
   "execution_count": 2,
   "metadata": {},
   "outputs": [
    {
     "data": {
      "application/vnd.microsoft.datawrangler.viewer.v0+json": {
       "columns": [
        {
         "name": "index",
         "rawType": "int64",
         "type": "integer"
        },
        {
         "name": "responseID",
         "rawType": "int64",
         "type": "integer"
        },
        {
         "name": "variable",
         "rawType": "object",
         "type": "string"
        },
        {
         "name": "valor",
         "rawType": "object",
         "type": "string"
        }
       ],
       "conversionMethod": "pd.DataFrame",
       "ref": "04eebfbc-618c-4739-a4c9-9f402dadeff3",
       "rows": [
        [
         "0",
         "56020150",
         "FF2",
         "SI"
        ],
        [
         "1",
         "56020150",
         "FF3",
         "SI. Duenoo o Socio/ Gerente/ Contador"
        ],
        [
         "2",
         "56020150",
         "FF4",
         "Servicios no Profesionales"
        ],
        [
         "3",
         "56020150",
         "FF5_1",
         "ENTRE $ 600.001 Y $ 1.000.000"
        ],
        [
         "4",
         "56020150",
         "FF7",
         "AMBA"
        ]
       ],
       "shape": {
        "columns": 3,
        "rows": 5
       }
      },
      "text/html": [
       "<div>\n",
       "<style scoped>\n",
       "    .dataframe tbody tr th:only-of-type {\n",
       "        vertical-align: middle;\n",
       "    }\n",
       "\n",
       "    .dataframe tbody tr th {\n",
       "        vertical-align: top;\n",
       "    }\n",
       "\n",
       "    .dataframe thead th {\n",
       "        text-align: right;\n",
       "    }\n",
       "</style>\n",
       "<table border=\"1\" class=\"dataframe\">\n",
       "  <thead>\n",
       "    <tr style=\"text-align: right;\">\n",
       "      <th></th>\n",
       "      <th>responseID</th>\n",
       "      <th>variable</th>\n",
       "      <th>valor</th>\n",
       "    </tr>\n",
       "  </thead>\n",
       "  <tbody>\n",
       "    <tr>\n",
       "      <th>0</th>\n",
       "      <td>56020150</td>\n",
       "      <td>FF2</td>\n",
       "      <td>SI</td>\n",
       "    </tr>\n",
       "    <tr>\n",
       "      <th>1</th>\n",
       "      <td>56020150</td>\n",
       "      <td>FF3</td>\n",
       "      <td>SI. Duenoo o Socio/ Gerente/ Contador</td>\n",
       "    </tr>\n",
       "    <tr>\n",
       "      <th>2</th>\n",
       "      <td>56020150</td>\n",
       "      <td>FF4</td>\n",
       "      <td>Servicios no Profesionales</td>\n",
       "    </tr>\n",
       "    <tr>\n",
       "      <th>3</th>\n",
       "      <td>56020150</td>\n",
       "      <td>FF5_1</td>\n",
       "      <td>ENTRE $ 600.001 Y $ 1.000.000</td>\n",
       "    </tr>\n",
       "    <tr>\n",
       "      <th>4</th>\n",
       "      <td>56020150</td>\n",
       "      <td>FF7</td>\n",
       "      <td>AMBA</td>\n",
       "    </tr>\n",
       "  </tbody>\n",
       "</table>\n",
       "</div>"
      ],
      "text/plain": [
       "   responseID variable                                  valor\n",
       "0    56020150      FF2                                     SI\n",
       "1    56020150      FF3  SI. Duenoo o Socio/ Gerente/ Contador\n",
       "2    56020150      FF4             Servicios no Profesionales\n",
       "3    56020150    FF5_1          ENTRE $ 600.001 Y $ 1.000.000\n",
       "4    56020150      FF7                                   AMBA"
      ]
     },
     "execution_count": 2,
     "metadata": {},
     "output_type": "execute_result"
    }
   ],
   "source": [
    "df_stack = df.set_index('responseID').stack().reset_index()\n",
    "df_final = df_stack.rename(columns={'level_1':'variable', 0:'valor'})\n",
    "df_final.head()"
   ]
  },
  {
   "cell_type": "markdown",
   "metadata": {},
   "source": [
    "### Parsing A9 question\n"
   ]
  },
  {
   "cell_type": "markdown",
   "metadata": {},
   "source": [
    "The variable \"A9\" had the bank (e.g.\"Banco 15\") included, so I updated those rows to display only the question id."
   ]
  },
  {
   "cell_type": "code",
   "execution_count": 3,
   "metadata": {},
   "outputs": [
    {
     "data": {
      "application/vnd.microsoft.datawrangler.viewer.v0+json": {
       "columns": [
        {
         "name": "index",
         "rawType": "int64",
         "type": "integer"
        },
        {
         "name": "responseID",
         "rawType": "int64",
         "type": "integer"
        },
        {
         "name": "variable",
         "rawType": "object",
         "type": "string"
        },
        {
         "name": "valor",
         "rawType": "object",
         "type": "string"
        }
       ],
       "conversionMethod": "pd.DataFrame",
       "ref": "f9e4f79f-e6a9-402c-a63f-877f2836743e",
       "rows": [
        [
         "9",
         "56020150",
         "A9_15.Banco.15",
         "Banco.15"
        ],
        [
         "10",
         "56020150",
         "A9_90.Banco.90",
         "Banco.90"
        ],
        [
         "24",
         "56024025",
         "A9_2.Banco.2",
         "Banco.2"
        ],
        [
         "25",
         "56024025",
         "A9_3.Banco.3",
         "Banco.3"
        ],
        [
         "26",
         "56024025",
         "A9_13.Banco.13",
         "Banco.13"
        ]
       ],
       "shape": {
        "columns": 3,
        "rows": 5
       }
      },
      "text/html": [
       "<div>\n",
       "<style scoped>\n",
       "    .dataframe tbody tr th:only-of-type {\n",
       "        vertical-align: middle;\n",
       "    }\n",
       "\n",
       "    .dataframe tbody tr th {\n",
       "        vertical-align: top;\n",
       "    }\n",
       "\n",
       "    .dataframe thead th {\n",
       "        text-align: right;\n",
       "    }\n",
       "</style>\n",
       "<table border=\"1\" class=\"dataframe\">\n",
       "  <thead>\n",
       "    <tr style=\"text-align: right;\">\n",
       "      <th></th>\n",
       "      <th>responseID</th>\n",
       "      <th>variable</th>\n",
       "      <th>valor</th>\n",
       "    </tr>\n",
       "  </thead>\n",
       "  <tbody>\n",
       "    <tr>\n",
       "      <th>9</th>\n",
       "      <td>56020150</td>\n",
       "      <td>A9_15.Banco.15</td>\n",
       "      <td>Banco.15</td>\n",
       "    </tr>\n",
       "    <tr>\n",
       "      <th>10</th>\n",
       "      <td>56020150</td>\n",
       "      <td>A9_90.Banco.90</td>\n",
       "      <td>Banco.90</td>\n",
       "    </tr>\n",
       "    <tr>\n",
       "      <th>24</th>\n",
       "      <td>56024025</td>\n",
       "      <td>A9_2.Banco.2</td>\n",
       "      <td>Banco.2</td>\n",
       "    </tr>\n",
       "    <tr>\n",
       "      <th>25</th>\n",
       "      <td>56024025</td>\n",
       "      <td>A9_3.Banco.3</td>\n",
       "      <td>Banco.3</td>\n",
       "    </tr>\n",
       "    <tr>\n",
       "      <th>26</th>\n",
       "      <td>56024025</td>\n",
       "      <td>A9_13.Banco.13</td>\n",
       "      <td>Banco.13</td>\n",
       "    </tr>\n",
       "  </tbody>\n",
       "</table>\n",
       "</div>"
      ],
      "text/plain": [
       "    responseID        variable     valor\n",
       "9     56020150  A9_15.Banco.15  Banco.15\n",
       "10    56020150  A9_90.Banco.90  Banco.90\n",
       "24    56024025    A9_2.Banco.2   Banco.2\n",
       "25    56024025    A9_3.Banco.3   Banco.3\n",
       "26    56024025  A9_13.Banco.13  Banco.13"
      ]
     },
     "execution_count": 3,
     "metadata": {},
     "output_type": "execute_result"
    }
   ],
   "source": [
    "A9_filter = df_final['variable'].str.startswith('A9_')\n",
    "\n",
    "df_final[A9_filter].head()"
   ]
  },
  {
   "cell_type": "code",
   "execution_count": 4,
   "metadata": {},
   "outputs": [
    {
     "data": {
      "application/vnd.microsoft.datawrangler.viewer.v0+json": {
       "columns": [
        {
         "name": "index",
         "rawType": "int64",
         "type": "integer"
        },
        {
         "name": "responseID",
         "rawType": "int64",
         "type": "integer"
        },
        {
         "name": "variable",
         "rawType": "object",
         "type": "string"
        },
        {
         "name": "valor",
         "rawType": "object",
         "type": "string"
        }
       ],
       "conversionMethod": "pd.DataFrame",
       "ref": "e09cf7b0-4c87-494c-82ad-f218cb37424c",
       "rows": [
        [
         "9",
         "56020150",
         "A9",
         "Banco.15"
        ],
        [
         "10",
         "56020150",
         "A9",
         "Banco.90"
        ],
        [
         "24",
         "56024025",
         "A9",
         "Banco.2"
        ],
        [
         "25",
         "56024025",
         "A9",
         "Banco.3"
        ],
        [
         "26",
         "56024025",
         "A9",
         "Banco.13"
        ]
       ],
       "shape": {
        "columns": 3,
        "rows": 5
       }
      },
      "text/html": [
       "<div>\n",
       "<style scoped>\n",
       "    .dataframe tbody tr th:only-of-type {\n",
       "        vertical-align: middle;\n",
       "    }\n",
       "\n",
       "    .dataframe tbody tr th {\n",
       "        vertical-align: top;\n",
       "    }\n",
       "\n",
       "    .dataframe thead th {\n",
       "        text-align: right;\n",
       "    }\n",
       "</style>\n",
       "<table border=\"1\" class=\"dataframe\">\n",
       "  <thead>\n",
       "    <tr style=\"text-align: right;\">\n",
       "      <th></th>\n",
       "      <th>responseID</th>\n",
       "      <th>variable</th>\n",
       "      <th>valor</th>\n",
       "    </tr>\n",
       "  </thead>\n",
       "  <tbody>\n",
       "    <tr>\n",
       "      <th>9</th>\n",
       "      <td>56020150</td>\n",
       "      <td>A9</td>\n",
       "      <td>Banco.15</td>\n",
       "    </tr>\n",
       "    <tr>\n",
       "      <th>10</th>\n",
       "      <td>56020150</td>\n",
       "      <td>A9</td>\n",
       "      <td>Banco.90</td>\n",
       "    </tr>\n",
       "    <tr>\n",
       "      <th>24</th>\n",
       "      <td>56024025</td>\n",
       "      <td>A9</td>\n",
       "      <td>Banco.2</td>\n",
       "    </tr>\n",
       "    <tr>\n",
       "      <th>25</th>\n",
       "      <td>56024025</td>\n",
       "      <td>A9</td>\n",
       "      <td>Banco.3</td>\n",
       "    </tr>\n",
       "    <tr>\n",
       "      <th>26</th>\n",
       "      <td>56024025</td>\n",
       "      <td>A9</td>\n",
       "      <td>Banco.13</td>\n",
       "    </tr>\n",
       "  </tbody>\n",
       "</table>\n",
       "</div>"
      ],
      "text/plain": [
       "    responseID variable     valor\n",
       "9     56020150       A9  Banco.15\n",
       "10    56020150       A9  Banco.90\n",
       "24    56024025       A9   Banco.2\n",
       "25    56024025       A9   Banco.3\n",
       "26    56024025       A9  Banco.13"
      ]
     },
     "execution_count": 4,
     "metadata": {},
     "output_type": "execute_result"
    }
   ],
   "source": [
    "df_final.loc[A9_filter, 'variable'] = 'A9'\n",
    "\n",
    "df_final[A9_filter].head()"
   ]
  },
  {
   "cell_type": "markdown",
   "metadata": {},
   "source": [
    "### Parsing A13 question"
   ]
  },
  {
   "cell_type": "markdown",
   "metadata": {},
   "source": [
    "Similar to Question A9, I had to parse the variable for clarity. The difference is that this time I need the bank chosen for Question A13 in the variable."
   ]
  },
  {
   "cell_type": "code",
   "execution_count": 5,
   "metadata": {},
   "outputs": [
    {
     "data": {
      "application/vnd.microsoft.datawrangler.viewer.v0+json": {
       "columns": [
        {
         "name": "index",
         "rawType": "int64",
         "type": "integer"
        },
        {
         "name": "responseID",
         "rawType": "int64",
         "type": "integer"
        },
        {
         "name": "variable",
         "rawType": "object",
         "type": "string"
        },
        {
         "name": "valor",
         "rawType": "object",
         "type": "unknown"
        }
       ],
       "conversionMethod": "pd.DataFrame",
       "ref": "7b240117-c98c-4121-9397-683311d49663",
       "rows": [
        [
         "12",
         "56020150",
         "A13_15.Banco.15",
         "8.0"
        ],
        [
         "13",
         "56020150",
         "A13_90.Banco.90",
         "10.0"
        ],
        [
         "29",
         "56024025",
         "A13_2.Banco.2",
         "10"
        ],
        [
         "30",
         "56024025",
         "A13_3.Banco.3",
         "10"
        ],
        [
         "31",
         "56024025",
         "A13_13.Banco.13",
         "8"
        ]
       ],
       "shape": {
        "columns": 3,
        "rows": 5
       }
      },
      "text/html": [
       "<div>\n",
       "<style scoped>\n",
       "    .dataframe tbody tr th:only-of-type {\n",
       "        vertical-align: middle;\n",
       "    }\n",
       "\n",
       "    .dataframe tbody tr th {\n",
       "        vertical-align: top;\n",
       "    }\n",
       "\n",
       "    .dataframe thead th {\n",
       "        text-align: right;\n",
       "    }\n",
       "</style>\n",
       "<table border=\"1\" class=\"dataframe\">\n",
       "  <thead>\n",
       "    <tr style=\"text-align: right;\">\n",
       "      <th></th>\n",
       "      <th>responseID</th>\n",
       "      <th>variable</th>\n",
       "      <th>valor</th>\n",
       "    </tr>\n",
       "  </thead>\n",
       "  <tbody>\n",
       "    <tr>\n",
       "      <th>12</th>\n",
       "      <td>56020150</td>\n",
       "      <td>A13_15.Banco.15</td>\n",
       "      <td>8.0</td>\n",
       "    </tr>\n",
       "    <tr>\n",
       "      <th>13</th>\n",
       "      <td>56020150</td>\n",
       "      <td>A13_90.Banco.90</td>\n",
       "      <td>10.0</td>\n",
       "    </tr>\n",
       "    <tr>\n",
       "      <th>29</th>\n",
       "      <td>56024025</td>\n",
       "      <td>A13_2.Banco.2</td>\n",
       "      <td>10</td>\n",
       "    </tr>\n",
       "    <tr>\n",
       "      <th>30</th>\n",
       "      <td>56024025</td>\n",
       "      <td>A13_3.Banco.3</td>\n",
       "      <td>10</td>\n",
       "    </tr>\n",
       "    <tr>\n",
       "      <th>31</th>\n",
       "      <td>56024025</td>\n",
       "      <td>A13_13.Banco.13</td>\n",
       "      <td>8</td>\n",
       "    </tr>\n",
       "  </tbody>\n",
       "</table>\n",
       "</div>"
      ],
      "text/plain": [
       "    responseID         variable valor\n",
       "12    56020150  A13_15.Banco.15   8.0\n",
       "13    56020150  A13_90.Banco.90  10.0\n",
       "29    56024025    A13_2.Banco.2    10\n",
       "30    56024025    A13_3.Banco.3    10\n",
       "31    56024025  A13_13.Banco.13     8"
      ]
     },
     "execution_count": 5,
     "metadata": {},
     "output_type": "execute_result"
    }
   ],
   "source": [
    "A13_filter = df_final['variable'].str.startswith('A13')\n",
    "\n",
    "df_final[A13_filter].head()"
   ]
  },
  {
   "cell_type": "code",
   "execution_count": 6,
   "metadata": {},
   "outputs": [
    {
     "data": {
      "application/vnd.microsoft.datawrangler.viewer.v0+json": {
       "columns": [
        {
         "name": "index",
         "rawType": "int64",
         "type": "integer"
        },
        {
         "name": "responseID",
         "rawType": "int64",
         "type": "integer"
        },
        {
         "name": "variable",
         "rawType": "object",
         "type": "string"
        },
        {
         "name": "valor",
         "rawType": "object",
         "type": "unknown"
        }
       ],
       "conversionMethod": "pd.DataFrame",
       "ref": "ce27db0a-6cc0-4f12-9631-b0179a3236c6",
       "rows": [
        [
         "12",
         "56020150",
         "A13_Banco.15",
         "8.0"
        ],
        [
         "13",
         "56020150",
         "A13_Banco.90",
         "10.0"
        ],
        [
         "29",
         "56024025",
         "A13_Banco.2",
         "10"
        ],
        [
         "30",
         "56024025",
         "A13_Banco.3",
         "10"
        ],
        [
         "31",
         "56024025",
         "A13_Banco.13",
         "8"
        ]
       ],
       "shape": {
        "columns": 3,
        "rows": 5
       }
      },
      "text/html": [
       "<div>\n",
       "<style scoped>\n",
       "    .dataframe tbody tr th:only-of-type {\n",
       "        vertical-align: middle;\n",
       "    }\n",
       "\n",
       "    .dataframe tbody tr th {\n",
       "        vertical-align: top;\n",
       "    }\n",
       "\n",
       "    .dataframe thead th {\n",
       "        text-align: right;\n",
       "    }\n",
       "</style>\n",
       "<table border=\"1\" class=\"dataframe\">\n",
       "  <thead>\n",
       "    <tr style=\"text-align: right;\">\n",
       "      <th></th>\n",
       "      <th>responseID</th>\n",
       "      <th>variable</th>\n",
       "      <th>valor</th>\n",
       "    </tr>\n",
       "  </thead>\n",
       "  <tbody>\n",
       "    <tr>\n",
       "      <th>12</th>\n",
       "      <td>56020150</td>\n",
       "      <td>A13_Banco.15</td>\n",
       "      <td>8.0</td>\n",
       "    </tr>\n",
       "    <tr>\n",
       "      <th>13</th>\n",
       "      <td>56020150</td>\n",
       "      <td>A13_Banco.90</td>\n",
       "      <td>10.0</td>\n",
       "    </tr>\n",
       "    <tr>\n",
       "      <th>29</th>\n",
       "      <td>56024025</td>\n",
       "      <td>A13_Banco.2</td>\n",
       "      <td>10</td>\n",
       "    </tr>\n",
       "    <tr>\n",
       "      <th>30</th>\n",
       "      <td>56024025</td>\n",
       "      <td>A13_Banco.3</td>\n",
       "      <td>10</td>\n",
       "    </tr>\n",
       "    <tr>\n",
       "      <th>31</th>\n",
       "      <td>56024025</td>\n",
       "      <td>A13_Banco.13</td>\n",
       "      <td>8</td>\n",
       "    </tr>\n",
       "  </tbody>\n",
       "</table>\n",
       "</div>"
      ],
      "text/plain": [
       "    responseID      variable valor\n",
       "12    56020150  A13_Banco.15   8.0\n",
       "13    56020150  A13_Banco.90  10.0\n",
       "29    56024025   A13_Banco.2    10\n",
       "30    56024025   A13_Banco.3    10\n",
       "31    56024025  A13_Banco.13     8"
      ]
     },
     "execution_count": 6,
     "metadata": {},
     "output_type": "execute_result"
    }
   ],
   "source": [
    "df_final[\"variable\"] = df_final[\"variable\"].str.replace(r\"A13_\\d+\\.\", \"A13_\", regex=True)\n",
    "df_final[A13_filter].head()"
   ]
  }
 ],
 "metadata": {
  "kernelspec": {
   "display_name": "Python 3",
   "language": "python",
   "name": "python3"
  },
  "language_info": {
   "codemirror_mode": {
    "name": "ipython",
    "version": 3
   },
   "file_extension": ".py",
   "mimetype": "text/x-python",
   "name": "python",
   "nbconvert_exporter": "python",
   "pygments_lexer": "ipython3",
   "version": "3.11.5"
  }
 },
 "nbformat": 4,
 "nbformat_minor": 2
}
